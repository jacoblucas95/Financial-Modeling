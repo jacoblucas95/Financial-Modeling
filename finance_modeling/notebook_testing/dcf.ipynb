{
 "cells": [
  {
   "cell_type": "code",
   "execution_count": 1,
   "metadata": {},
   "outputs": [],
   "source": [
    "import numpy as np\n",
    "import pandas as pd\n",
    "import requests\n",
    "from excel_to_df import excel_to_df"
   ]
  },
  {
   "cell_type": "code",
   "execution_count": 2,
   "metadata": {},
   "outputs": [],
   "source": [
    "url = \"https://apidojo-yahoo-finance-v1.p.rapidapi.com/stock/v2/get-financials\"\n",
    "\n",
    "querystring = {\"symbol\":\"AAPL\"}\n",
    "\n",
    "headers = {\n",
    "    'x-rapidapi-host': \"apidojo-yahoo-finance-v1.p.rapidapi.com\",\n",
    "    'x-rapidapi-key': \"ee394341bbmsh8c35e24e6eb2c23p1f49fcjsn8cf1179e5bce\"\n",
    "    }\n",
    "\n",
    "response = requests.request(\"GET\", url, headers=headers, params=querystring)\n",
    "financials = response.json()"
   ]
  },
  {
   "cell_type": "code",
   "execution_count": 91,
   "metadata": {},
   "outputs": [],
   "source": [
    "# df_pl_fake,df_cf,df_bs = excel_to_df('apple-y.xlsx')\n",
    "df_pl = pd.read_pickle('aapl_pl.pickle')\n",
    "df_bs = pd.read_pickle('aapl_bs.pickle')\n",
    "df_cf = pd.read_pickle('aapl_cf.pickle')"
   ]
  },
  {
   "cell_type": "code",
   "execution_count": 88,
   "metadata": {},
   "outputs": [
    {
     "data": {
      "text/plain": [
       "date\n",
       "2009     8946.0\n",
       "2010    16474.0\n",
       "2011    30077.0\n",
       "2012    41454.0\n",
       "2013    44590.0\n",
       "2014    49900.0\n",
       "2015    69778.0\n",
       "2016    53497.0\n",
       "2017    51774.0\n",
       "2018    64121.0\n",
       "2019    58896.0\n",
       "dtype: float64"
      ]
     },
     "execution_count": 88,
     "metadata": {},
     "output_type": "execute_result"
    }
   ],
   "source": [
    "# df_cf.loc['Free Cash Flow'] = df_cf.loc['Operating Cash Flow'] + df_cf.loc['Capital Expenditure']\n",
    "# fcf = df_cf.loc['Operating Cash Flow'] + df_cf.loc['Capital Expenditure']\n",
    "# fcf"
   ]
  },
  {
   "cell_type": "code",
   "execution_count": 92,
   "metadata": {},
   "outputs": [],
   "source": [
    "df_cf = df_cf.reindex(columns=[*df_cf.columns.tolist()], fill_value=0)"
   ]
  },
  {
   "cell_type": "code",
   "execution_count": 93,
   "metadata": {},
   "outputs": [
    {
     "data": {
      "text/html": [
       "<div>\n",
       "<style scoped>\n",
       "    .dataframe tbody tr th:only-of-type {\n",
       "        vertical-align: middle;\n",
       "    }\n",
       "\n",
       "    .dataframe tbody tr th {\n",
       "        vertical-align: top;\n",
       "    }\n",
       "\n",
       "    .dataframe thead th {\n",
       "        text-align: right;\n",
       "    }\n",
       "</style>\n",
       "<table border=\"1\" class=\"dataframe\">\n",
       "  <thead>\n",
       "    <tr style=\"text-align: right;\">\n",
       "      <th>date</th>\n",
       "      <th>2009</th>\n",
       "      <th>2010</th>\n",
       "      <th>2011</th>\n",
       "      <th>2012</th>\n",
       "      <th>2013</th>\n",
       "      <th>2014</th>\n",
       "      <th>2015</th>\n",
       "      <th>2016</th>\n",
       "      <th>2017</th>\n",
       "      <th>2018</th>\n",
       "      <th>2019</th>\n",
       "    </tr>\n",
       "  </thead>\n",
       "  <tbody>\n",
       "    <tr>\n",
       "      <th>Acquisitions and disposals</th>\n",
       "      <td>0.0</td>\n",
       "      <td>-638.0</td>\n",
       "      <td>-244.0</td>\n",
       "      <td>-350.0</td>\n",
       "      <td>-496.0</td>\n",
       "      <td>-3765.0</td>\n",
       "      <td>-343.0</td>\n",
       "      <td>-297.0</td>\n",
       "      <td>-329.0</td>\n",
       "      <td>-721.0</td>\n",
       "      <td>-624.0</td>\n",
       "    </tr>\n",
       "    <tr>\n",
       "      <th>Capital Expenditure</th>\n",
       "      <td>-1213.0</td>\n",
       "      <td>-2121.0</td>\n",
       "      <td>-7452.0</td>\n",
       "      <td>-9402.0</td>\n",
       "      <td>-9076.0</td>\n",
       "      <td>-9813.0</td>\n",
       "      <td>-11488.0</td>\n",
       "      <td>-12734.0</td>\n",
       "      <td>-12451.0</td>\n",
       "      <td>-13313.0</td>\n",
       "      <td>-10495.0</td>\n",
       "    </tr>\n",
       "    <tr>\n",
       "      <th>Depreciation &amp; Amortization</th>\n",
       "      <td>734.0</td>\n",
       "      <td>1027.0</td>\n",
       "      <td>1814.0</td>\n",
       "      <td>3277.0</td>\n",
       "      <td>6757.0</td>\n",
       "      <td>7946.0</td>\n",
       "      <td>11257.0</td>\n",
       "      <td>10505.0</td>\n",
       "      <td>10157.0</td>\n",
       "      <td>10903.0</td>\n",
       "      <td>12547.0</td>\n",
       "    </tr>\n",
       "    <tr>\n",
       "      <th>Dividend payments</th>\n",
       "      <td>0.0</td>\n",
       "      <td>0.0</td>\n",
       "      <td>0.0</td>\n",
       "      <td>-2488.0</td>\n",
       "      <td>-10564.0</td>\n",
       "      <td>-11126.0</td>\n",
       "      <td>-11561.0</td>\n",
       "      <td>-12150.0</td>\n",
       "      <td>-12769.0</td>\n",
       "      <td>-13712.0</td>\n",
       "      <td>-14119.0</td>\n",
       "    </tr>\n",
       "    <tr>\n",
       "      <th>Effect of forex changes on cash</th>\n",
       "      <td>0.0</td>\n",
       "      <td>0.0</td>\n",
       "      <td>0.0</td>\n",
       "      <td>0.0</td>\n",
       "      <td>0.0</td>\n",
       "      <td>0.0</td>\n",
       "      <td>0.0</td>\n",
       "      <td>0.0</td>\n",
       "      <td>0.0</td>\n",
       "      <td>0.0</td>\n",
       "      <td>0.0</td>\n",
       "    </tr>\n",
       "    <tr>\n",
       "      <th>Financing Cash Flow</th>\n",
       "      <td>663.0</td>\n",
       "      <td>1257.0</td>\n",
       "      <td>1444.0</td>\n",
       "      <td>-1698.0</td>\n",
       "      <td>-16379.0</td>\n",
       "      <td>-37549.0</td>\n",
       "      <td>-17716.0</td>\n",
       "      <td>-20890.0</td>\n",
       "      <td>-17974.0</td>\n",
       "      <td>-87876.0</td>\n",
       "      <td>-90976.0</td>\n",
       "    </tr>\n",
       "    <tr>\n",
       "      <th>Free Cash Flow</th>\n",
       "      <td>8946.0</td>\n",
       "      <td>16474.0</td>\n",
       "      <td>30077.0</td>\n",
       "      <td>41454.0</td>\n",
       "      <td>44590.0</td>\n",
       "      <td>49900.0</td>\n",
       "      <td>69778.0</td>\n",
       "      <td>53497.0</td>\n",
       "      <td>51774.0</td>\n",
       "      <td>64121.0</td>\n",
       "      <td>58896.0</td>\n",
       "    </tr>\n",
       "    <tr>\n",
       "      <th>Investing Cash flow</th>\n",
       "      <td>-17434.0</td>\n",
       "      <td>-13854.0</td>\n",
       "      <td>-40419.0</td>\n",
       "      <td>-48227.0</td>\n",
       "      <td>-33774.0</td>\n",
       "      <td>-22579.0</td>\n",
       "      <td>-56274.0</td>\n",
       "      <td>-45977.0</td>\n",
       "      <td>-46446.0</td>\n",
       "      <td>16066.0</td>\n",
       "      <td>45896.0</td>\n",
       "    </tr>\n",
       "    <tr>\n",
       "      <th>Investment purchases and sales</th>\n",
       "      <td>-16046.0</td>\n",
       "      <td>-11075.0</td>\n",
       "      <td>-32464.0</td>\n",
       "      <td>-38427.0</td>\n",
       "      <td>-24042.0</td>\n",
       "      <td>-9027.0</td>\n",
       "      <td>-44417.0</td>\n",
       "      <td>-32022.0</td>\n",
       "      <td>-33542.0</td>\n",
       "      <td>30845.0</td>\n",
       "      <td>58093.0</td>\n",
       "    </tr>\n",
       "    <tr>\n",
       "      <th>Issuance (buybacks) of shares</th>\n",
       "      <td>475.0</td>\n",
       "      <td>912.0</td>\n",
       "      <td>831.0</td>\n",
       "      <td>665.0</td>\n",
       "      <td>-22330.0</td>\n",
       "      <td>-44270.0</td>\n",
       "      <td>-34710.0</td>\n",
       "      <td>-29227.0</td>\n",
       "      <td>-32345.0</td>\n",
       "      <td>-72069.0</td>\n",
       "      <td>-66116.0</td>\n",
       "    </tr>\n",
       "    <tr>\n",
       "      <th>Issuance (repayment) of debt</th>\n",
       "      <td>0.0</td>\n",
       "      <td>0.0</td>\n",
       "      <td>0.0</td>\n",
       "      <td>0.0</td>\n",
       "      <td>16896.0</td>\n",
       "      <td>18266.0</td>\n",
       "      <td>29305.0</td>\n",
       "      <td>22057.0</td>\n",
       "      <td>29014.0</td>\n",
       "      <td>432.0</td>\n",
       "      <td>-7819.0</td>\n",
       "    </tr>\n",
       "    <tr>\n",
       "      <th>Net Cash/Marketcap</th>\n",
       "      <td>0.0</td>\n",
       "      <td>0.0</td>\n",
       "      <td>0.0</td>\n",
       "      <td>0.0</td>\n",
       "      <td>0.0</td>\n",
       "      <td>-0.0</td>\n",
       "      <td>-0.0</td>\n",
       "      <td>-0.0</td>\n",
       "      <td>-0.0</td>\n",
       "      <td>-0.0</td>\n",
       "      <td>-0.0</td>\n",
       "    </tr>\n",
       "    <tr>\n",
       "      <th>Net cash flow / Change in cash</th>\n",
       "      <td>-6612.0</td>\n",
       "      <td>5998.0</td>\n",
       "      <td>-1446.0</td>\n",
       "      <td>931.0</td>\n",
       "      <td>3513.0</td>\n",
       "      <td>-415.0</td>\n",
       "      <td>7276.0</td>\n",
       "      <td>-636.0</td>\n",
       "      <td>-195.0</td>\n",
       "      <td>5624.0</td>\n",
       "      <td>24311.0</td>\n",
       "    </tr>\n",
       "    <tr>\n",
       "      <th>Operating Cash Flow</th>\n",
       "      <td>10159.0</td>\n",
       "      <td>18595.0</td>\n",
       "      <td>37529.0</td>\n",
       "      <td>50856.0</td>\n",
       "      <td>53666.0</td>\n",
       "      <td>59713.0</td>\n",
       "      <td>81266.0</td>\n",
       "      <td>66231.0</td>\n",
       "      <td>64225.0</td>\n",
       "      <td>77434.0</td>\n",
       "      <td>69391.0</td>\n",
       "    </tr>\n",
       "    <tr>\n",
       "      <th>Stock-based compensation</th>\n",
       "      <td>710.0</td>\n",
       "      <td>879.0</td>\n",
       "      <td>1168.0</td>\n",
       "      <td>1740.0</td>\n",
       "      <td>2253.0</td>\n",
       "      <td>2863.0</td>\n",
       "      <td>3586.0</td>\n",
       "      <td>4210.0</td>\n",
       "      <td>4840.0</td>\n",
       "      <td>5340.0</td>\n",
       "      <td>6068.0</td>\n",
       "    </tr>\n",
       "  </tbody>\n",
       "</table>\n",
       "</div>"
      ],
      "text/plain": [
       "date                                2009     2010     2011     2012     2013  \\\n",
       "Acquisitions and disposals           0.0   -638.0   -244.0   -350.0   -496.0   \n",
       "Capital Expenditure              -1213.0  -2121.0  -7452.0  -9402.0  -9076.0   \n",
       "Depreciation & Amortization        734.0   1027.0   1814.0   3277.0   6757.0   \n",
       "Dividend payments                    0.0      0.0      0.0  -2488.0 -10564.0   \n",
       "Effect of forex changes on cash      0.0      0.0      0.0      0.0      0.0   \n",
       "Financing Cash Flow                663.0   1257.0   1444.0  -1698.0 -16379.0   \n",
       "Free Cash Flow                    8946.0  16474.0  30077.0  41454.0  44590.0   \n",
       "Investing Cash flow             -17434.0 -13854.0 -40419.0 -48227.0 -33774.0   \n",
       "Investment purchases and sales  -16046.0 -11075.0 -32464.0 -38427.0 -24042.0   \n",
       "Issuance (buybacks) of shares      475.0    912.0    831.0    665.0 -22330.0   \n",
       "Issuance (repayment) of debt         0.0      0.0      0.0      0.0  16896.0   \n",
       "Net Cash/Marketcap                   0.0      0.0      0.0      0.0      0.0   \n",
       "Net cash flow / Change in cash   -6612.0   5998.0  -1446.0    931.0   3513.0   \n",
       "Operating Cash Flow              10159.0  18595.0  37529.0  50856.0  53666.0   \n",
       "Stock-based compensation           710.0    879.0   1168.0   1740.0   2253.0   \n",
       "\n",
       "date                                2014     2015     2016     2017     2018  \\\n",
       "Acquisitions and disposals       -3765.0   -343.0   -297.0   -329.0   -721.0   \n",
       "Capital Expenditure              -9813.0 -11488.0 -12734.0 -12451.0 -13313.0   \n",
       "Depreciation & Amortization       7946.0  11257.0  10505.0  10157.0  10903.0   \n",
       "Dividend payments               -11126.0 -11561.0 -12150.0 -12769.0 -13712.0   \n",
       "Effect of forex changes on cash      0.0      0.0      0.0      0.0      0.0   \n",
       "Financing Cash Flow             -37549.0 -17716.0 -20890.0 -17974.0 -87876.0   \n",
       "Free Cash Flow                   49900.0  69778.0  53497.0  51774.0  64121.0   \n",
       "Investing Cash flow             -22579.0 -56274.0 -45977.0 -46446.0  16066.0   \n",
       "Investment purchases and sales   -9027.0 -44417.0 -32022.0 -33542.0  30845.0   \n",
       "Issuance (buybacks) of shares   -44270.0 -34710.0 -29227.0 -32345.0 -72069.0   \n",
       "Issuance (repayment) of debt     18266.0  29305.0  22057.0  29014.0    432.0   \n",
       "Net Cash/Marketcap                  -0.0     -0.0     -0.0     -0.0     -0.0   \n",
       "Net cash flow / Change in cash    -415.0   7276.0   -636.0   -195.0   5624.0   \n",
       "Operating Cash Flow              59713.0  81266.0  66231.0  64225.0  77434.0   \n",
       "Stock-based compensation          2863.0   3586.0   4210.0   4840.0   5340.0   \n",
       "\n",
       "date                                2019  \n",
       "Acquisitions and disposals        -624.0  \n",
       "Capital Expenditure             -10495.0  \n",
       "Depreciation & Amortization      12547.0  \n",
       "Dividend payments               -14119.0  \n",
       "Effect of forex changes on cash      0.0  \n",
       "Financing Cash Flow             -90976.0  \n",
       "Free Cash Flow                   58896.0  \n",
       "Investing Cash flow              45896.0  \n",
       "Investment purchases and sales   58093.0  \n",
       "Issuance (buybacks) of shares   -66116.0  \n",
       "Issuance (repayment) of debt     -7819.0  \n",
       "Net Cash/Marketcap                  -0.0  \n",
       "Net cash flow / Change in cash   24311.0  \n",
       "Operating Cash Flow              69391.0  \n",
       "Stock-based compensation          6068.0  "
      ]
     },
     "execution_count": 93,
     "metadata": {},
     "output_type": "execute_result"
    }
   ],
   "source": [
    "df_cf"
   ]
  },
  {
   "cell_type": "code",
   "execution_count": 94,
   "metadata": {},
   "outputs": [],
   "source": [
    "df_cf.loc[\"FCFE/Net Income(%)\"] = (df_cf.loc['Free Cash Flow'] / df_pl.loc['Consolidated Income']) * 100"
   ]
  },
  {
   "cell_type": "code",
   "execution_count": 95,
   "metadata": {},
   "outputs": [
    {
     "data": {
      "text/html": [
       "<div>\n",
       "<style scoped>\n",
       "    .dataframe tbody tr th:only-of-type {\n",
       "        vertical-align: middle;\n",
       "    }\n",
       "\n",
       "    .dataframe tbody tr th {\n",
       "        vertical-align: top;\n",
       "    }\n",
       "\n",
       "    .dataframe thead th {\n",
       "        text-align: right;\n",
       "    }\n",
       "</style>\n",
       "<table border=\"1\" class=\"dataframe\">\n",
       "  <thead>\n",
       "    <tr style=\"text-align: right;\">\n",
       "      <th>date</th>\n",
       "      <th>2009</th>\n",
       "      <th>2010</th>\n",
       "      <th>2011</th>\n",
       "      <th>2012</th>\n",
       "      <th>2013</th>\n",
       "      <th>2014</th>\n",
       "      <th>2015</th>\n",
       "      <th>2016</th>\n",
       "      <th>2017</th>\n",
       "      <th>2018</th>\n",
       "      <th>2019</th>\n",
       "    </tr>\n",
       "  </thead>\n",
       "  <tbody>\n",
       "    <tr>\n",
       "      <th>Acquisitions and disposals</th>\n",
       "      <td>0.0</td>\n",
       "      <td>-638.0</td>\n",
       "      <td>-244.0</td>\n",
       "      <td>-350.0</td>\n",
       "      <td>-496.0</td>\n",
       "      <td>-3765.0</td>\n",
       "      <td>-343.0</td>\n",
       "      <td>-297.0</td>\n",
       "      <td>-329.0</td>\n",
       "      <td>-721.0</td>\n",
       "      <td>-624.0</td>\n",
       "    </tr>\n",
       "    <tr>\n",
       "      <th>Capital Expenditure</th>\n",
       "      <td>-1213.0</td>\n",
       "      <td>-2121.0</td>\n",
       "      <td>-7452.0</td>\n",
       "      <td>-9402.0</td>\n",
       "      <td>-9076.0</td>\n",
       "      <td>-9813.0</td>\n",
       "      <td>-11488.0</td>\n",
       "      <td>-12734.0</td>\n",
       "      <td>-12451.0</td>\n",
       "      <td>-13313.0</td>\n",
       "      <td>-10495.0</td>\n",
       "    </tr>\n",
       "    <tr>\n",
       "      <th>Depreciation &amp; Amortization</th>\n",
       "      <td>734.0</td>\n",
       "      <td>1027.0</td>\n",
       "      <td>1814.0</td>\n",
       "      <td>3277.0</td>\n",
       "      <td>6757.0</td>\n",
       "      <td>7946.0</td>\n",
       "      <td>11257.0</td>\n",
       "      <td>10505.0</td>\n",
       "      <td>10157.0</td>\n",
       "      <td>10903.0</td>\n",
       "      <td>12547.0</td>\n",
       "    </tr>\n",
       "    <tr>\n",
       "      <th>Dividend payments</th>\n",
       "      <td>0.0</td>\n",
       "      <td>0.0</td>\n",
       "      <td>0.0</td>\n",
       "      <td>-2488.0</td>\n",
       "      <td>-10564.0</td>\n",
       "      <td>-11126.0</td>\n",
       "      <td>-11561.0</td>\n",
       "      <td>-12150.0</td>\n",
       "      <td>-12769.0</td>\n",
       "      <td>-13712.0</td>\n",
       "      <td>-14119.0</td>\n",
       "    </tr>\n",
       "    <tr>\n",
       "      <th>Effect of forex changes on cash</th>\n",
       "      <td>0.0</td>\n",
       "      <td>0.0</td>\n",
       "      <td>0.0</td>\n",
       "      <td>0.0</td>\n",
       "      <td>0.0</td>\n",
       "      <td>0.0</td>\n",
       "      <td>0.0</td>\n",
       "      <td>0.0</td>\n",
       "      <td>0.0</td>\n",
       "      <td>0.0</td>\n",
       "      <td>0.0</td>\n",
       "    </tr>\n",
       "    <tr>\n",
       "      <th>Financing Cash Flow</th>\n",
       "      <td>663.0</td>\n",
       "      <td>1257.0</td>\n",
       "      <td>1444.0</td>\n",
       "      <td>-1698.0</td>\n",
       "      <td>-16379.0</td>\n",
       "      <td>-37549.0</td>\n",
       "      <td>-17716.0</td>\n",
       "      <td>-20890.0</td>\n",
       "      <td>-17974.0</td>\n",
       "      <td>-87876.0</td>\n",
       "      <td>-90976.0</td>\n",
       "    </tr>\n",
       "    <tr>\n",
       "      <th>Free Cash Flow</th>\n",
       "      <td>8946.0</td>\n",
       "      <td>16474.0</td>\n",
       "      <td>30077.0</td>\n",
       "      <td>41454.0</td>\n",
       "      <td>44590.0</td>\n",
       "      <td>49900.0</td>\n",
       "      <td>69778.0</td>\n",
       "      <td>53497.0</td>\n",
       "      <td>51774.0</td>\n",
       "      <td>64121.0</td>\n",
       "      <td>58896.0</td>\n",
       "    </tr>\n",
       "    <tr>\n",
       "      <th>Investing Cash flow</th>\n",
       "      <td>-17434.0</td>\n",
       "      <td>-13854.0</td>\n",
       "      <td>-40419.0</td>\n",
       "      <td>-48227.0</td>\n",
       "      <td>-33774.0</td>\n",
       "      <td>-22579.0</td>\n",
       "      <td>-56274.0</td>\n",
       "      <td>-45977.0</td>\n",
       "      <td>-46446.0</td>\n",
       "      <td>16066.0</td>\n",
       "      <td>45896.0</td>\n",
       "    </tr>\n",
       "    <tr>\n",
       "      <th>Investment purchases and sales</th>\n",
       "      <td>-16046.0</td>\n",
       "      <td>-11075.0</td>\n",
       "      <td>-32464.0</td>\n",
       "      <td>-38427.0</td>\n",
       "      <td>-24042.0</td>\n",
       "      <td>-9027.0</td>\n",
       "      <td>-44417.0</td>\n",
       "      <td>-32022.0</td>\n",
       "      <td>-33542.0</td>\n",
       "      <td>30845.0</td>\n",
       "      <td>58093.0</td>\n",
       "    </tr>\n",
       "    <tr>\n",
       "      <th>Issuance (buybacks) of shares</th>\n",
       "      <td>475.0</td>\n",
       "      <td>912.0</td>\n",
       "      <td>831.0</td>\n",
       "      <td>665.0</td>\n",
       "      <td>-22330.0</td>\n",
       "      <td>-44270.0</td>\n",
       "      <td>-34710.0</td>\n",
       "      <td>-29227.0</td>\n",
       "      <td>-32345.0</td>\n",
       "      <td>-72069.0</td>\n",
       "      <td>-66116.0</td>\n",
       "    </tr>\n",
       "    <tr>\n",
       "      <th>Issuance (repayment) of debt</th>\n",
       "      <td>0.0</td>\n",
       "      <td>0.0</td>\n",
       "      <td>0.0</td>\n",
       "      <td>0.0</td>\n",
       "      <td>16896.0</td>\n",
       "      <td>18266.0</td>\n",
       "      <td>29305.0</td>\n",
       "      <td>22057.0</td>\n",
       "      <td>29014.0</td>\n",
       "      <td>432.0</td>\n",
       "      <td>-7819.0</td>\n",
       "    </tr>\n",
       "    <tr>\n",
       "      <th>Net Cash/Marketcap</th>\n",
       "      <td>0.0</td>\n",
       "      <td>0.0</td>\n",
       "      <td>0.0</td>\n",
       "      <td>0.0</td>\n",
       "      <td>0.0</td>\n",
       "      <td>-0.0</td>\n",
       "      <td>-0.0</td>\n",
       "      <td>-0.0</td>\n",
       "      <td>-0.0</td>\n",
       "      <td>-0.0</td>\n",
       "      <td>-0.0</td>\n",
       "    </tr>\n",
       "    <tr>\n",
       "      <th>Net cash flow / Change in cash</th>\n",
       "      <td>-6612.0</td>\n",
       "      <td>5998.0</td>\n",
       "      <td>-1446.0</td>\n",
       "      <td>931.0</td>\n",
       "      <td>3513.0</td>\n",
       "      <td>-415.0</td>\n",
       "      <td>7276.0</td>\n",
       "      <td>-636.0</td>\n",
       "      <td>-195.0</td>\n",
       "      <td>5624.0</td>\n",
       "      <td>24311.0</td>\n",
       "    </tr>\n",
       "    <tr>\n",
       "      <th>Operating Cash Flow</th>\n",
       "      <td>10159.0</td>\n",
       "      <td>18595.0</td>\n",
       "      <td>37529.0</td>\n",
       "      <td>50856.0</td>\n",
       "      <td>53666.0</td>\n",
       "      <td>59713.0</td>\n",
       "      <td>81266.0</td>\n",
       "      <td>66231.0</td>\n",
       "      <td>64225.0</td>\n",
       "      <td>77434.0</td>\n",
       "      <td>69391.0</td>\n",
       "    </tr>\n",
       "    <tr>\n",
       "      <th>Stock-based compensation</th>\n",
       "      <td>710.0</td>\n",
       "      <td>879.0</td>\n",
       "      <td>1168.0</td>\n",
       "      <td>1740.0</td>\n",
       "      <td>2253.0</td>\n",
       "      <td>2863.0</td>\n",
       "      <td>3586.0</td>\n",
       "      <td>4210.0</td>\n",
       "      <td>4840.0</td>\n",
       "      <td>5340.0</td>\n",
       "      <td>6068.0</td>\n",
       "    </tr>\n",
       "    <tr>\n",
       "      <th>FCFE/Net Income(%)</th>\n",
       "      <td>108.6</td>\n",
       "      <td>117.6</td>\n",
       "      <td>116.0</td>\n",
       "      <td>99.3</td>\n",
       "      <td>120.4</td>\n",
       "      <td>126.3</td>\n",
       "      <td>130.7</td>\n",
       "      <td>117.1</td>\n",
       "      <td>107.1</td>\n",
       "      <td>107.7</td>\n",
       "      <td>106.6</td>\n",
       "    </tr>\n",
       "  </tbody>\n",
       "</table>\n",
       "</div>"
      ],
      "text/plain": [
       "date                                2009     2010     2011     2012     2013  \\\n",
       "Acquisitions and disposals           0.0   -638.0   -244.0   -350.0   -496.0   \n",
       "Capital Expenditure              -1213.0  -2121.0  -7452.0  -9402.0  -9076.0   \n",
       "Depreciation & Amortization        734.0   1027.0   1814.0   3277.0   6757.0   \n",
       "Dividend payments                    0.0      0.0      0.0  -2488.0 -10564.0   \n",
       "Effect of forex changes on cash      0.0      0.0      0.0      0.0      0.0   \n",
       "Financing Cash Flow                663.0   1257.0   1444.0  -1698.0 -16379.0   \n",
       "Free Cash Flow                    8946.0  16474.0  30077.0  41454.0  44590.0   \n",
       "Investing Cash flow             -17434.0 -13854.0 -40419.0 -48227.0 -33774.0   \n",
       "Investment purchases and sales  -16046.0 -11075.0 -32464.0 -38427.0 -24042.0   \n",
       "Issuance (buybacks) of shares      475.0    912.0    831.0    665.0 -22330.0   \n",
       "Issuance (repayment) of debt         0.0      0.0      0.0      0.0  16896.0   \n",
       "Net Cash/Marketcap                   0.0      0.0      0.0      0.0      0.0   \n",
       "Net cash flow / Change in cash   -6612.0   5998.0  -1446.0    931.0   3513.0   \n",
       "Operating Cash Flow              10159.0  18595.0  37529.0  50856.0  53666.0   \n",
       "Stock-based compensation           710.0    879.0   1168.0   1740.0   2253.0   \n",
       "FCFE/Net Income(%)                 108.6    117.6    116.0     99.3    120.4   \n",
       "\n",
       "date                                2014     2015     2016     2017     2018  \\\n",
       "Acquisitions and disposals       -3765.0   -343.0   -297.0   -329.0   -721.0   \n",
       "Capital Expenditure              -9813.0 -11488.0 -12734.0 -12451.0 -13313.0   \n",
       "Depreciation & Amortization       7946.0  11257.0  10505.0  10157.0  10903.0   \n",
       "Dividend payments               -11126.0 -11561.0 -12150.0 -12769.0 -13712.0   \n",
       "Effect of forex changes on cash      0.0      0.0      0.0      0.0      0.0   \n",
       "Financing Cash Flow             -37549.0 -17716.0 -20890.0 -17974.0 -87876.0   \n",
       "Free Cash Flow                   49900.0  69778.0  53497.0  51774.0  64121.0   \n",
       "Investing Cash flow             -22579.0 -56274.0 -45977.0 -46446.0  16066.0   \n",
       "Investment purchases and sales   -9027.0 -44417.0 -32022.0 -33542.0  30845.0   \n",
       "Issuance (buybacks) of shares   -44270.0 -34710.0 -29227.0 -32345.0 -72069.0   \n",
       "Issuance (repayment) of debt     18266.0  29305.0  22057.0  29014.0    432.0   \n",
       "Net Cash/Marketcap                  -0.0     -0.0     -0.0     -0.0     -0.0   \n",
       "Net cash flow / Change in cash    -415.0   7276.0   -636.0   -195.0   5624.0   \n",
       "Operating Cash Flow              59713.0  81266.0  66231.0  64225.0  77434.0   \n",
       "Stock-based compensation          2863.0   3586.0   4210.0   4840.0   5340.0   \n",
       "FCFE/Net Income(%)                 126.3    130.7    117.1    107.1    107.7   \n",
       "\n",
       "date                                2019  \n",
       "Acquisitions and disposals        -624.0  \n",
       "Capital Expenditure             -10495.0  \n",
       "Depreciation & Amortization      12547.0  \n",
       "Dividend payments               -14119.0  \n",
       "Effect of forex changes on cash      0.0  \n",
       "Financing Cash Flow             -90976.0  \n",
       "Free Cash Flow                   58896.0  \n",
       "Investing Cash flow              45896.0  \n",
       "Investment purchases and sales   58093.0  \n",
       "Issuance (buybacks) of shares   -66116.0  \n",
       "Issuance (repayment) of debt     -7819.0  \n",
       "Net Cash/Marketcap                  -0.0  \n",
       "Net cash flow / Change in cash   24311.0  \n",
       "Operating Cash Flow              69391.0  \n",
       "Stock-based compensation          6068.0  \n",
       "FCFE/Net Income(%)                 106.6  "
      ]
     },
     "execution_count": 95,
     "metadata": {},
     "output_type": "execute_result"
    }
   ],
   "source": [
    "df_cf = df_cf.round(1)\n",
    "df_cf"
   ]
  },
  {
   "cell_type": "code",
   "execution_count": 96,
   "metadata": {},
   "outputs": [
    {
     "data": {
      "text/plain": [
       "date\n",
       "2009     42905.0\n",
       "2010     65225.0\n",
       "2011    108249.0\n",
       "2012    156508.0\n",
       "2013    170910.0\n",
       "2014    182795.0\n",
       "2015    233715.0\n",
       "2016    215639.0\n",
       "2017    229234.0\n",
       "2018    265595.0\n",
       "2019    260174.0\n",
       "Name: Revenue, dtype: float64"
      ]
     },
     "execution_count": 96,
     "metadata": {},
     "output_type": "execute_result"
    }
   ],
   "source": [
    "cur_rev = df_pl.loc[\"Revenue\"]\n",
    "cur_rev"
   ]
  },
  {
   "cell_type": "code",
   "execution_count": 103,
   "metadata": {},
   "outputs": [],
   "source": [
    "rev_est = pd.Series([274860.0, 295930.0], index=[\"2020\",\"2021\"])"
   ]
  },
  {
   "cell_type": "code",
   "execution_count": 104,
   "metadata": {},
   "outputs": [],
   "source": [
    "rev = cur_rev.append(rev_est)"
   ]
  },
  {
   "cell_type": "code",
   "execution_count": 105,
   "metadata": {},
   "outputs": [],
   "source": [
    "pct_change = rev.pct_change()"
   ]
  },
  {
   "cell_type": "code",
   "execution_count": 106,
   "metadata": {},
   "outputs": [
    {
     "data": {
      "text/plain": [
       "0.06655202336419264"
      ]
     },
     "execution_count": 106,
     "metadata": {},
     "output_type": "execute_result"
    }
   ],
   "source": [
    "pct_change[-2:].mean()"
   ]
  },
  {
   "cell_type": "code",
   "execution_count": 107,
   "metadata": {},
   "outputs": [
    {
     "data": {
      "text/plain": [
       "2009     42905.0\n",
       "2010     65225.0\n",
       "2011    108249.0\n",
       "2012    156508.0\n",
       "2013    170910.0\n",
       "2014    182795.0\n",
       "2015    233715.0\n",
       "2016    215639.0\n",
       "2017    229234.0\n",
       "2018    265595.0\n",
       "2019    260174.0\n",
       "2020    274860.0\n",
       "2021    295930.0\n",
       "dtype: float64"
      ]
     },
     "execution_count": 107,
     "metadata": {},
     "output_type": "execute_result"
    }
   ],
   "source": [
    "rev"
   ]
  },
  {
   "cell_type": "code",
   "execution_count": 108,
   "metadata": {},
   "outputs": [
    {
     "data": {
      "text/plain": [
       "FY '22    315624.740274\n",
       "FY '23    336630.205363\n",
       "dtype: float64"
      ]
     },
     "execution_count": 108,
     "metadata": {},
     "output_type": "execute_result"
    }
   ],
   "source": [
    "fy22 = rev[-1] * (1 + pct_change[-2:].mean())\n",
    "fy23 = fy22 * (1 + pct_change[-2:].mean())\n",
    "rev_proj = pd.Series([fy22, fy23], index=[\"FY '22\",\"FY '23\"])\n",
    "rev_proj"
   ]
  },
  {
   "cell_type": "code",
   "execution_count": 109,
   "metadata": {},
   "outputs": [
    {
     "data": {
      "text/plain": [
       "2009       42905.000000\n",
       "2010       65225.000000\n",
       "2011      108249.000000\n",
       "2012      156508.000000\n",
       "2013      170910.000000\n",
       "2014      182795.000000\n",
       "2015      233715.000000\n",
       "2016      215639.000000\n",
       "2017      229234.000000\n",
       "2018      265595.000000\n",
       "2019      260174.000000\n",
       "2020      274860.000000\n",
       "2021      295930.000000\n",
       "FY '22    315624.740274\n",
       "FY '23    336630.205363\n",
       "dtype: float64"
      ]
     },
     "execution_count": 109,
     "metadata": {},
     "output_type": "execute_result"
    }
   ],
   "source": [
    "rev_new = rev.append(rev_proj)\n",
    "rev_new"
   ]
  },
  {
   "cell_type": "code",
   "execution_count": 111,
   "metadata": {},
   "outputs": [
    {
     "data": {
      "text/html": [
       "<div>\n",
       "<style scoped>\n",
       "    .dataframe tbody tr th:only-of-type {\n",
       "        vertical-align: middle;\n",
       "    }\n",
       "\n",
       "    .dataframe tbody tr th {\n",
       "        vertical-align: top;\n",
       "    }\n",
       "\n",
       "    .dataframe thead th {\n",
       "        text-align: right;\n",
       "    }\n",
       "</style>\n",
       "<table border=\"1\" class=\"dataframe\">\n",
       "  <thead>\n",
       "    <tr style=\"text-align: right;\">\n",
       "      <th></th>\n",
       "      <th>2009</th>\n",
       "      <th>2010</th>\n",
       "      <th>2011</th>\n",
       "      <th>2012</th>\n",
       "      <th>2013</th>\n",
       "      <th>2014</th>\n",
       "      <th>2015</th>\n",
       "      <th>2016</th>\n",
       "      <th>2017</th>\n",
       "      <th>2018</th>\n",
       "      <th>2019</th>\n",
       "      <th>2020</th>\n",
       "      <th>2021</th>\n",
       "      <th>FY '22</th>\n",
       "      <th>FY '23</th>\n",
       "    </tr>\n",
       "  </thead>\n",
       "  <tbody>\n",
       "    <tr>\n",
       "      <th>Revenue</th>\n",
       "      <td>42905.0</td>\n",
       "      <td>65225.0</td>\n",
       "      <td>108249.0</td>\n",
       "      <td>156508.0</td>\n",
       "      <td>170910.0</td>\n",
       "      <td>182795.0</td>\n",
       "      <td>233715.0</td>\n",
       "      <td>215639.0</td>\n",
       "      <td>229234.0</td>\n",
       "      <td>265595.0</td>\n",
       "      <td>260174.0</td>\n",
       "      <td>274860.0</td>\n",
       "      <td>295930.0</td>\n",
       "      <td>315624.740274</td>\n",
       "      <td>336630.205363</td>\n",
       "    </tr>\n",
       "    <tr>\n",
       "      <th>Net Income</th>\n",
       "      <td>8235.0</td>\n",
       "      <td>14013.0</td>\n",
       "      <td>25922.0</td>\n",
       "      <td>41733.0</td>\n",
       "      <td>37037.0</td>\n",
       "      <td>39510.0</td>\n",
       "      <td>53394.0</td>\n",
       "      <td>45687.0</td>\n",
       "      <td>48351.0</td>\n",
       "      <td>59531.0</td>\n",
       "      <td>55256.0</td>\n",
       "      <td>NaN</td>\n",
       "      <td>NaN</td>\n",
       "      <td>NaN</td>\n",
       "      <td>NaN</td>\n",
       "    </tr>\n",
       "  </tbody>\n",
       "</table>\n",
       "</div>"
      ],
      "text/plain": [
       "               2009     2010      2011      2012      2013      2014  \\\n",
       "Revenue     42905.0  65225.0  108249.0  156508.0  170910.0  182795.0   \n",
       "Net Income   8235.0  14013.0   25922.0   41733.0   37037.0   39510.0   \n",
       "\n",
       "                2015      2016      2017      2018      2019      2020  \\\n",
       "Revenue     233715.0  215639.0  229234.0  265595.0  260174.0  274860.0   \n",
       "Net Income   53394.0   45687.0   48351.0   59531.0   55256.0       NaN   \n",
       "\n",
       "                2021         FY '22         FY '23  \n",
       "Revenue     295930.0  315624.740274  336630.205363  \n",
       "Net Income       NaN            NaN            NaN  "
      ]
     },
     "execution_count": 111,
     "metadata": {},
     "output_type": "execute_result"
    }
   ],
   "source": [
    "d = {'Revenue':rev_new, 'Net Income': df_pl.loc['Consolidated Income']}\n",
    "proj_df = pd.DataFrame(d)\n",
    "income_statement_df = proj_df.T\n",
    "income_statement_df"
   ]
  },
  {
   "cell_type": "code",
   "execution_count": 112,
   "metadata": {},
   "outputs": [],
   "source": [
    "income_statement_df.loc['Net Income Margins'] = income_statement_df.loc['Net Income'] / income_statement_df.loc['Revenue']"
   ]
  },
  {
   "cell_type": "code",
   "execution_count": 113,
   "metadata": {},
   "outputs": [],
   "source": [
    "income_statement_df.loc['Net Income Margins'].fillna(income_statement_df.loc['Net Income Margins'].mean(), inplace=True)"
   ]
  },
  {
   "cell_type": "code",
   "execution_count": 114,
   "metadata": {},
   "outputs": [],
   "source": [
    "income_statement_df.loc['Net Income'].fillna(income_statement_df.loc['Revenue']*income_statement_df.loc['Net Income Margins'], inplace=True)"
   ]
  },
  {
   "cell_type": "code",
   "execution_count": 115,
   "metadata": {},
   "outputs": [
    {
     "data": {
      "text/html": [
       "<div>\n",
       "<style scoped>\n",
       "    .dataframe tbody tr th:only-of-type {\n",
       "        vertical-align: middle;\n",
       "    }\n",
       "\n",
       "    .dataframe tbody tr th {\n",
       "        vertical-align: top;\n",
       "    }\n",
       "\n",
       "    .dataframe thead th {\n",
       "        text-align: right;\n",
       "    }\n",
       "</style>\n",
       "<table border=\"1\" class=\"dataframe\">\n",
       "  <thead>\n",
       "    <tr style=\"text-align: right;\">\n",
       "      <th></th>\n",
       "      <th>2009</th>\n",
       "      <th>2010</th>\n",
       "      <th>2011</th>\n",
       "      <th>2012</th>\n",
       "      <th>2013</th>\n",
       "      <th>2014</th>\n",
       "      <th>2015</th>\n",
       "      <th>2016</th>\n",
       "      <th>2017</th>\n",
       "      <th>2018</th>\n",
       "      <th>2019</th>\n",
       "      <th>2020</th>\n",
       "      <th>2021</th>\n",
       "      <th>FY '22</th>\n",
       "      <th>FY '23</th>\n",
       "    </tr>\n",
       "  </thead>\n",
       "  <tbody>\n",
       "    <tr>\n",
       "      <th>Revenue</th>\n",
       "      <td>42905.000</td>\n",
       "      <td>65225.000</td>\n",
       "      <td>108249.000</td>\n",
       "      <td>156508.000</td>\n",
       "      <td>170910.000</td>\n",
       "      <td>182795.000</td>\n",
       "      <td>233715.000</td>\n",
       "      <td>215639.000</td>\n",
       "      <td>229234.000</td>\n",
       "      <td>265595.000</td>\n",
       "      <td>260174.000</td>\n",
       "      <td>274860.000</td>\n",
       "      <td>295930.000</td>\n",
       "      <td>315624.740</td>\n",
       "      <td>336630.205</td>\n",
       "    </tr>\n",
       "    <tr>\n",
       "      <th>Net Income</th>\n",
       "      <td>8235.000</td>\n",
       "      <td>14013.000</td>\n",
       "      <td>25922.000</td>\n",
       "      <td>41733.000</td>\n",
       "      <td>37037.000</td>\n",
       "      <td>39510.000</td>\n",
       "      <td>53394.000</td>\n",
       "      <td>45687.000</td>\n",
       "      <td>48351.000</td>\n",
       "      <td>59531.000</td>\n",
       "      <td>55256.000</td>\n",
       "      <td>60806.910</td>\n",
       "      <td>65468.198</td>\n",
       "      <td>69825.239</td>\n",
       "      <td>74472.250</td>\n",
       "    </tr>\n",
       "    <tr>\n",
       "      <th>Net Income Margins</th>\n",
       "      <td>0.192</td>\n",
       "      <td>0.215</td>\n",
       "      <td>0.239</td>\n",
       "      <td>0.267</td>\n",
       "      <td>0.217</td>\n",
       "      <td>0.216</td>\n",
       "      <td>0.228</td>\n",
       "      <td>0.212</td>\n",
       "      <td>0.211</td>\n",
       "      <td>0.224</td>\n",
       "      <td>0.212</td>\n",
       "      <td>0.221</td>\n",
       "      <td>0.221</td>\n",
       "      <td>0.221</td>\n",
       "      <td>0.221</td>\n",
       "    </tr>\n",
       "  </tbody>\n",
       "</table>\n",
       "</div>"
      ],
      "text/plain": [
       "                         2009       2010        2011        2012        2013  \\\n",
       "Revenue             42905.000  65225.000  108249.000  156508.000  170910.000   \n",
       "Net Income           8235.000  14013.000   25922.000   41733.000   37037.000   \n",
       "Net Income Margins      0.192      0.215       0.239       0.267       0.217   \n",
       "\n",
       "                          2014        2015        2016        2017  \\\n",
       "Revenue             182795.000  233715.000  215639.000  229234.000   \n",
       "Net Income           39510.000   53394.000   45687.000   48351.000   \n",
       "Net Income Margins       0.216       0.228       0.212       0.211   \n",
       "\n",
       "                          2018        2019        2020        2021  \\\n",
       "Revenue             265595.000  260174.000  274860.000  295930.000   \n",
       "Net Income           59531.000   55256.000   60806.910   65468.198   \n",
       "Net Income Margins       0.224       0.212       0.221       0.221   \n",
       "\n",
       "                        FY '22      FY '23  \n",
       "Revenue             315624.740  336630.205  \n",
       "Net Income           69825.239   74472.250  \n",
       "Net Income Margins       0.221       0.221  "
      ]
     },
     "execution_count": 115,
     "metadata": {},
     "output_type": "execute_result"
    }
   ],
   "source": [
    "income_statement_df = income_statement_df.round(3)\n",
    "income_statement_df"
   ]
  },
  {
   "cell_type": "code",
   "execution_count": 116,
   "metadata": {},
   "outputs": [],
   "source": [
    "income_statement_df.loc['Free Cash Flow'] = df_cf.loc['Free Cash Flow']\n",
    "fcf_pct = df_cf.loc['FCFE/Net Income(%)'].mean()\n",
    "income_statement_df.loc['Free Cash Flow'].fillna(income_statement_df.loc['Net Income'] * fcf_pct/100, inplace=True)"
   ]
  },
  {
   "cell_type": "code",
   "execution_count": 117,
   "metadata": {},
   "outputs": [],
   "source": [
    "income_statement_df = income_statement_df.round(3)"
   ]
  },
  {
   "cell_type": "code",
   "execution_count": 118,
   "metadata": {},
   "outputs": [
    {
     "data": {
      "text/html": [
       "<div>\n",
       "<style scoped>\n",
       "    .dataframe tbody tr th:only-of-type {\n",
       "        vertical-align: middle;\n",
       "    }\n",
       "\n",
       "    .dataframe tbody tr th {\n",
       "        vertical-align: top;\n",
       "    }\n",
       "\n",
       "    .dataframe thead th {\n",
       "        text-align: right;\n",
       "    }\n",
       "</style>\n",
       "<table border=\"1\" class=\"dataframe\">\n",
       "  <thead>\n",
       "    <tr style=\"text-align: right;\">\n",
       "      <th></th>\n",
       "      <th>2009</th>\n",
       "      <th>2010</th>\n",
       "      <th>2011</th>\n",
       "      <th>2012</th>\n",
       "      <th>2013</th>\n",
       "      <th>2014</th>\n",
       "      <th>2015</th>\n",
       "      <th>2016</th>\n",
       "      <th>2017</th>\n",
       "      <th>2018</th>\n",
       "      <th>2019</th>\n",
       "      <th>2020</th>\n",
       "      <th>2021</th>\n",
       "      <th>FY '22</th>\n",
       "      <th>FY '23</th>\n",
       "    </tr>\n",
       "  </thead>\n",
       "  <tbody>\n",
       "    <tr>\n",
       "      <th>Revenue</th>\n",
       "      <td>42905.000</td>\n",
       "      <td>65225.000</td>\n",
       "      <td>108249.000</td>\n",
       "      <td>156508.000</td>\n",
       "      <td>170910.000</td>\n",
       "      <td>182795.000</td>\n",
       "      <td>233715.000</td>\n",
       "      <td>215639.000</td>\n",
       "      <td>229234.000</td>\n",
       "      <td>265595.000</td>\n",
       "      <td>260174.000</td>\n",
       "      <td>274860.000</td>\n",
       "      <td>295930.000</td>\n",
       "      <td>315624.740</td>\n",
       "      <td>336630.205</td>\n",
       "    </tr>\n",
       "    <tr>\n",
       "      <th>Net Income</th>\n",
       "      <td>8235.000</td>\n",
       "      <td>14013.000</td>\n",
       "      <td>25922.000</td>\n",
       "      <td>41733.000</td>\n",
       "      <td>37037.000</td>\n",
       "      <td>39510.000</td>\n",
       "      <td>53394.000</td>\n",
       "      <td>45687.000</td>\n",
       "      <td>48351.000</td>\n",
       "      <td>59531.000</td>\n",
       "      <td>55256.000</td>\n",
       "      <td>60806.910</td>\n",
       "      <td>65468.198</td>\n",
       "      <td>69825.239</td>\n",
       "      <td>74472.250</td>\n",
       "    </tr>\n",
       "    <tr>\n",
       "      <th>Net Income Margins</th>\n",
       "      <td>0.192</td>\n",
       "      <td>0.215</td>\n",
       "      <td>0.239</td>\n",
       "      <td>0.267</td>\n",
       "      <td>0.217</td>\n",
       "      <td>0.216</td>\n",
       "      <td>0.228</td>\n",
       "      <td>0.212</td>\n",
       "      <td>0.211</td>\n",
       "      <td>0.224</td>\n",
       "      <td>0.212</td>\n",
       "      <td>0.221</td>\n",
       "      <td>0.221</td>\n",
       "      <td>0.221</td>\n",
       "      <td>0.221</td>\n",
       "    </tr>\n",
       "    <tr>\n",
       "      <th>Free Cash Flow</th>\n",
       "      <td>8946.000</td>\n",
       "      <td>16474.000</td>\n",
       "      <td>30077.000</td>\n",
       "      <td>41454.000</td>\n",
       "      <td>44590.000</td>\n",
       "      <td>49900.000</td>\n",
       "      <td>69778.000</td>\n",
       "      <td>53497.000</td>\n",
       "      <td>51774.000</td>\n",
       "      <td>64121.000</td>\n",
       "      <td>58896.000</td>\n",
       "      <td>69507.826</td>\n",
       "      <td>74836.102</td>\n",
       "      <td>79816.596</td>\n",
       "      <td>85128.552</td>\n",
       "    </tr>\n",
       "  </tbody>\n",
       "</table>\n",
       "</div>"
      ],
      "text/plain": [
       "                         2009       2010        2011        2012        2013  \\\n",
       "Revenue             42905.000  65225.000  108249.000  156508.000  170910.000   \n",
       "Net Income           8235.000  14013.000   25922.000   41733.000   37037.000   \n",
       "Net Income Margins      0.192      0.215       0.239       0.267       0.217   \n",
       "Free Cash Flow       8946.000  16474.000   30077.000   41454.000   44590.000   \n",
       "\n",
       "                          2014        2015        2016        2017  \\\n",
       "Revenue             182795.000  233715.000  215639.000  229234.000   \n",
       "Net Income           39510.000   53394.000   45687.000   48351.000   \n",
       "Net Income Margins       0.216       0.228       0.212       0.211   \n",
       "Free Cash Flow       49900.000   69778.000   53497.000   51774.000   \n",
       "\n",
       "                          2018        2019        2020        2021  \\\n",
       "Revenue             265595.000  260174.000  274860.000  295930.000   \n",
       "Net Income           59531.000   55256.000   60806.910   65468.198   \n",
       "Net Income Margins       0.224       0.212       0.221       0.221   \n",
       "Free Cash Flow       64121.000   58896.000   69507.826   74836.102   \n",
       "\n",
       "                        FY '22      FY '23  \n",
       "Revenue             315624.740  336630.205  \n",
       "Net Income           69825.239   74472.250  \n",
       "Net Income Margins       0.221       0.221  \n",
       "Free Cash Flow       79816.596   85128.552  "
      ]
     },
     "execution_count": 118,
     "metadata": {},
     "output_type": "execute_result"
    }
   ],
   "source": [
    "income_statement_df"
   ]
  },
  {
   "cell_type": "code",
   "execution_count": 119,
   "metadata": {},
   "outputs": [
    {
     "data": {
      "text/plain": [
       "-3576.0"
      ]
     },
     "execution_count": 119,
     "metadata": {},
     "output_type": "execute_result"
    }
   ],
   "source": [
    "income_statement = financials['incomeStatementHistory']['incomeStatementHistory']\n",
    "interest_expense = income_statement[0]['interestExpense']['longFmt']\n",
    "interest_expense = int(interest_expense.replace(',',''))\n",
    "adj_int_exp = interest_expense / 1000000\n",
    "adj_int_exp"
   ]
  },
  {
   "cell_type": "code",
   "execution_count": 122,
   "metadata": {},
   "outputs": [
    {
     "data": {
      "text/plain": [
       "108047.0"
      ]
     },
     "execution_count": 122,
     "metadata": {},
     "output_type": "execute_result"
    }
   ],
   "source": [
    "total_debt = (df_bs.loc['Long-term debt'] + df_bs.loc['Short-term debt'])[-1]\n",
    "total_debt"
   ]
  },
  {
   "cell_type": "code",
   "execution_count": 123,
   "metadata": {},
   "outputs": [
    {
     "data": {
      "text/plain": [
       "0.033096707914148475"
      ]
     },
     "execution_count": 123,
     "metadata": {},
     "output_type": "execute_result"
    }
   ],
   "source": [
    "interest_debt_rate = abs(adj_int_exp) / total_debt\n",
    "interest_debt_rate"
   ]
  },
  {
   "cell_type": "code",
   "execution_count": 124,
   "metadata": {},
   "outputs": [
    {
     "data": {
      "text/plain": [
       "dict_keys(['researchDevelopment', 'effectOfAccountingCharges', 'incomeBeforeTax', 'minorityInterest', 'netIncome', 'sellingGeneralAdministrative', 'grossProfit', 'ebit', 'endDate', 'operatingIncome', 'otherOperatingExpenses', 'interestExpense', 'extraordinaryItems', 'nonRecurring', 'otherItems', 'incomeTaxExpense', 'totalRevenue', 'totalOperatingExpenses', 'costOfRevenue', 'totalOtherIncomeExpenseNet', 'maxAge', 'discontinuedOperations', 'netIncomeFromContinuingOps', 'netIncomeApplicableToCommonShares'])"
      ]
     },
     "execution_count": 124,
     "metadata": {},
     "output_type": "execute_result"
    }
   ],
   "source": [
    "financials['incomeStatementHistory']['incomeStatementHistory'][0].keys()"
   ]
  },
  {
   "cell_type": "code",
   "execution_count": 125,
   "metadata": {},
   "outputs": [
    {
     "data": {
      "text/plain": [
       "65737.0"
      ]
     },
     "execution_count": 125,
     "metadata": {},
     "output_type": "execute_result"
    }
   ],
   "source": [
    "income_before_tax = financials['incomeStatementHistory']['incomeStatementHistory'][0]['incomeBeforeTax']['longFmt']\n",
    "income_before_tax = int(income_before_tax.replace(',',''))\n",
    "adj_inc_bef_tax = income_before_tax / 1000000\n",
    "adj_inc_bef_tax"
   ]
  },
  {
   "cell_type": "code",
   "execution_count": 126,
   "metadata": {},
   "outputs": [
    {
     "data": {
      "text/plain": [
       "10481.0"
      ]
     },
     "execution_count": 126,
     "metadata": {},
     "output_type": "execute_result"
    }
   ],
   "source": [
    "income_tax_expense = financials['incomeStatementHistory']['incomeStatementHistory'][0]['incomeTaxExpense']['longFmt']\n",
    "income_tax_expense = int(income_tax_expense.replace(',',''))\n",
    "adj_inc_tax_exp = income_tax_expense / 1000000\n",
    "adj_inc_tax_exp"
   ]
  },
  {
   "cell_type": "code",
   "execution_count": 127,
   "metadata": {},
   "outputs": [],
   "source": [
    "effective_tax_rate = adj_inc_tax_exp / adj_inc_bef_tax"
   ]
  },
  {
   "cell_type": "code",
   "execution_count": 128,
   "metadata": {},
   "outputs": [
    {
     "data": {
      "text/plain": [
       "0.027819822816742293"
      ]
     },
     "execution_count": 128,
     "metadata": {},
     "output_type": "execute_result"
    }
   ],
   "source": [
    "tax_adjusted_cost_debt = (1 - effective_tax_rate) * interest_debt_rate\n",
    "tax_adjusted_cost_debt"
   ]
  },
  {
   "cell_type": "code",
   "execution_count": 129,
   "metadata": {},
   "outputs": [],
   "source": [
    "# risk free rate\n",
    "\n",
    "url = \"https://apidojo-yahoo-finance-v1.p.rapidapi.com/market/get-summary\"\n",
    "\n",
    "querystring = {\"region\":\"US\",\"lang\":\"en\"}\n",
    "\n",
    "headers = {\n",
    "    'x-rapidapi-host': \"apidojo-yahoo-finance-v1.p.rapidapi.com\",\n",
    "    'x-rapidapi-key': \"ee394341bbmsh8c35e24e6eb2c23p1f49fcjsn8cf1179e5bce\"\n",
    "    }\n",
    "\n",
    "response = requests.request(\"GET\", url, headers=headers, params=querystring)\n",
    "\n",
    "ten_yr_bond = response.json()"
   ]
  },
  {
   "cell_type": "code",
   "execution_count": 130,
   "metadata": {},
   "outputs": [
    {
     "data": {
      "text/plain": [
       "1.814"
      ]
     },
     "execution_count": 130,
     "metadata": {},
     "output_type": "execute_result"
    }
   ],
   "source": [
    "risk_free_rate = float(ten_yr_bond['marketSummaryResponse']['result'][8]['regularMarketPrice']['fmt'])\n",
    "risk_free_rate"
   ]
  },
  {
   "cell_type": "code",
   "execution_count": 131,
   "metadata": {},
   "outputs": [],
   "source": [
    "# get beta of underlying\n",
    "\n",
    "url = 'https://api.tdameritrade.com/v1/instruments'\n",
    "params = {\n",
    "    'apikey': 'KZECOOGWTHECBHB4PNZZM3S1GHKLNQS1',\n",
    "    'symbol': 'AAPL',\n",
    "    'projection': 'fundamental'\n",
    "}\n",
    "\n",
    "content = requests.get(url=url, params=params)\n",
    "fundamentals = content.json()"
   ]
  },
  {
   "cell_type": "code",
   "execution_count": 132,
   "metadata": {},
   "outputs": [],
   "source": [
    "beta = fundamentals['AAPL']['fundamental']['beta']"
   ]
  },
  {
   "cell_type": "code",
   "execution_count": 133,
   "metadata": {},
   "outputs": [
    {
     "data": {
      "text/plain": [
       "0.11648017805448141"
      ]
     },
     "execution_count": 133,
     "metadata": {},
     "output_type": "execute_result"
    }
   ],
   "source": [
    "cap_asset_pm = tax_adjusted_cost_debt + beta*(0.10 - tax_adjusted_cost_debt)\n",
    "cap_asset_pm"
   ]
  },
  {
   "cell_type": "code",
   "execution_count": 134,
   "metadata": {},
   "outputs": [],
   "source": [
    "# market & debt cap\n",
    "market_cap = fundamentals['AAPL']['fundamental']['marketCap']\n",
    "total = market_cap + total_debt"
   ]
  },
  {
   "cell_type": "code",
   "execution_count": 135,
   "metadata": {},
   "outputs": [
    {
     "data": {
      "text/plain": [
       "(0.08305078883145334, 0.9169492111685467)"
      ]
     },
     "execution_count": 135,
     "metadata": {},
     "output_type": "execute_result"
    }
   ],
   "source": [
    "# weight of debt & equity\n",
    "wd = total_debt / total\n",
    "we = market_cap / total\n",
    "wd, we"
   ]
  },
  {
   "cell_type": "code",
   "execution_count": 136,
   "metadata": {},
   "outputs": [
    {
     "data": {
      "text/plain": [
       "0.10911686561391029"
      ]
     },
     "execution_count": 136,
     "metadata": {},
     "output_type": "execute_result"
    }
   ],
   "source": [
    "wacc = (wd * tax_adjusted_cost_debt) + (we * cap_asset_pm)\n",
    "wacc"
   ]
  },
  {
   "cell_type": "code",
   "execution_count": 137,
   "metadata": {},
   "outputs": [
    {
     "data": {
      "text/plain": [
       "4443.265"
      ]
     },
     "execution_count": 137,
     "metadata": {},
     "output_type": "execute_result"
    }
   ],
   "source": [
    "# shares outstanding\n",
    "shares_out = fundamentals['AAPL']['fundamental']['sharesOutstanding']\n",
    "shares_out"
   ]
  },
  {
   "cell_type": "code",
   "execution_count": 138,
   "metadata": {},
   "outputs": [],
   "source": [
    "dcf_val = income_statement_df.loc[['Free Cash Flow']]"
   ]
  },
  {
   "cell_type": "code",
   "execution_count": 139,
   "metadata": {},
   "outputs": [],
   "source": [
    "term_val = (dcf_val.loc['Free Cash Flow', \"FY '23\"] * (1 + .025)) / (wacc - .025)\n",
    "dcf_val['Terminal Value'] = term_val"
   ]
  },
  {
   "cell_type": "code",
   "execution_count": 140,
   "metadata": {},
   "outputs": [],
   "source": [
    "discount_factor = (1+wacc)\n",
    "dis_fac = [0,0,0,0,0,0,0,0,0,0,0,discount_factor**1,discount_factor**2,discount_factor**3,discount_factor**4,discount_factor**4]\n",
    "dcf_val.loc['Discount Factor'] = dis_fac"
   ]
  },
  {
   "cell_type": "code",
   "execution_count": 141,
   "metadata": {},
   "outputs": [],
   "source": [
    "dcf_val.loc['PV of Future Cash Flow'] = dcf_val.loc['Free Cash Flow'] / dcf_val.loc['Discount Factor']"
   ]
  },
  {
   "cell_type": "code",
   "execution_count": 142,
   "metadata": {},
   "outputs": [],
   "source": [
    "dcf_val.replace([np.inf], 0, inplace=True)"
   ]
  },
  {
   "cell_type": "code",
   "execution_count": 143,
   "metadata": {},
   "outputs": [
    {
     "data": {
      "text/html": [
       "<div>\n",
       "<style scoped>\n",
       "    .dataframe tbody tr th:only-of-type {\n",
       "        vertical-align: middle;\n",
       "    }\n",
       "\n",
       "    .dataframe tbody tr th {\n",
       "        vertical-align: top;\n",
       "    }\n",
       "\n",
       "    .dataframe thead th {\n",
       "        text-align: right;\n",
       "    }\n",
       "</style>\n",
       "<table border=\"1\" class=\"dataframe\">\n",
       "  <thead>\n",
       "    <tr style=\"text-align: right;\">\n",
       "      <th></th>\n",
       "      <th>2009</th>\n",
       "      <th>2010</th>\n",
       "      <th>2011</th>\n",
       "      <th>2012</th>\n",
       "      <th>2013</th>\n",
       "      <th>2014</th>\n",
       "      <th>2015</th>\n",
       "      <th>2016</th>\n",
       "      <th>2017</th>\n",
       "      <th>2018</th>\n",
       "      <th>2019</th>\n",
       "      <th>2020</th>\n",
       "      <th>2021</th>\n",
       "      <th>FY '22</th>\n",
       "      <th>FY '23</th>\n",
       "      <th>Terminal Value</th>\n",
       "    </tr>\n",
       "  </thead>\n",
       "  <tbody>\n",
       "    <tr>\n",
       "      <th>Free Cash Flow</th>\n",
       "      <td>8946.0</td>\n",
       "      <td>16474.0</td>\n",
       "      <td>30077.0</td>\n",
       "      <td>41454.0</td>\n",
       "      <td>44590.0</td>\n",
       "      <td>49900.0</td>\n",
       "      <td>69778.0</td>\n",
       "      <td>53497.0</td>\n",
       "      <td>51774.0</td>\n",
       "      <td>64121.0</td>\n",
       "      <td>58896.0</td>\n",
       "      <td>69507.826000</td>\n",
       "      <td>74836.102000</td>\n",
       "      <td>79816.596000</td>\n",
       "      <td>85128.552000</td>\n",
       "      <td>1.037328e+06</td>\n",
       "    </tr>\n",
       "    <tr>\n",
       "      <th>Discount Factor</th>\n",
       "      <td>0.0</td>\n",
       "      <td>0.0</td>\n",
       "      <td>0.0</td>\n",
       "      <td>0.0</td>\n",
       "      <td>0.0</td>\n",
       "      <td>0.0</td>\n",
       "      <td>0.0</td>\n",
       "      <td>0.0</td>\n",
       "      <td>0.0</td>\n",
       "      <td>0.0</td>\n",
       "      <td>0.0</td>\n",
       "      <td>1.109117</td>\n",
       "      <td>1.230140</td>\n",
       "      <td>1.364369</td>\n",
       "      <td>1.513245</td>\n",
       "      <td>1.513245e+00</td>\n",
       "    </tr>\n",
       "    <tr>\n",
       "      <th>PV of Future Cash Flow</th>\n",
       "      <td>0.0</td>\n",
       "      <td>0.0</td>\n",
       "      <td>0.0</td>\n",
       "      <td>0.0</td>\n",
       "      <td>0.0</td>\n",
       "      <td>0.0</td>\n",
       "      <td>0.0</td>\n",
       "      <td>0.0</td>\n",
       "      <td>0.0</td>\n",
       "      <td>0.0</td>\n",
       "      <td>0.0</td>\n",
       "      <td>62669.523974</td>\n",
       "      <td>60835.424033</td>\n",
       "      <td>58500.728461</td>\n",
       "      <td>56255.632090</td>\n",
       "      <td>6.854989e+05</td>\n",
       "    </tr>\n",
       "  </tbody>\n",
       "</table>\n",
       "</div>"
      ],
      "text/plain": [
       "                          2009     2010     2011     2012     2013     2014  \\\n",
       "Free Cash Flow          8946.0  16474.0  30077.0  41454.0  44590.0  49900.0   \n",
       "Discount Factor            0.0      0.0      0.0      0.0      0.0      0.0   \n",
       "PV of Future Cash Flow     0.0      0.0      0.0      0.0      0.0      0.0   \n",
       "\n",
       "                           2015     2016     2017     2018     2019  \\\n",
       "Free Cash Flow          69778.0  53497.0  51774.0  64121.0  58896.0   \n",
       "Discount Factor             0.0      0.0      0.0      0.0      0.0   \n",
       "PV of Future Cash Flow      0.0      0.0      0.0      0.0      0.0   \n",
       "\n",
       "                                2020          2021        FY '22  \\\n",
       "Free Cash Flow          69507.826000  74836.102000  79816.596000   \n",
       "Discount Factor             1.109117      1.230140      1.364369   \n",
       "PV of Future Cash Flow  62669.523974  60835.424033  58500.728461   \n",
       "\n",
       "                              FY '23  Terminal Value  \n",
       "Free Cash Flow          85128.552000    1.037328e+06  \n",
       "Discount Factor             1.513245    1.513245e+00  \n",
       "PV of Future Cash Flow  56255.632090    6.854989e+05  "
      ]
     },
     "execution_count": 143,
     "metadata": {},
     "output_type": "execute_result"
    }
   ],
   "source": [
    "dcf_val"
   ]
  },
  {
   "cell_type": "code",
   "execution_count": 144,
   "metadata": {},
   "outputs": [
    {
     "data": {
      "text/plain": [
       "923760.2566140138"
      ]
     },
     "execution_count": 144,
     "metadata": {},
     "output_type": "execute_result"
    }
   ],
   "source": [
    "todays_val = dcf_val.loc['PV of Future Cash Flow'].sum()\n",
    "todays_val"
   ]
  },
  {
   "cell_type": "code",
   "execution_count": 145,
   "metadata": {},
   "outputs": [
    {
     "data": {
      "text/plain": [
       "207.9012295269388"
      ]
     },
     "execution_count": 145,
     "metadata": {},
     "output_type": "execute_result"
    }
   ],
   "source": [
    "fair_value = todays_val / shares_out\n",
    "fair_value"
   ]
  },
  {
   "cell_type": "code",
   "execution_count": null,
   "metadata": {},
   "outputs": [],
   "source": []
  }
 ],
 "metadata": {
  "kernelspec": {
   "display_name": "Python 3",
   "language": "python",
   "name": "python3"
  },
  "language_info": {
   "codemirror_mode": {
    "name": "ipython",
    "version": 3
   },
   "file_extension": ".py",
   "mimetype": "text/x-python",
   "name": "python",
   "nbconvert_exporter": "python",
   "pygments_lexer": "ipython3",
   "version": "3.6.8"
  }
 },
 "nbformat": 4,
 "nbformat_minor": 2
}
