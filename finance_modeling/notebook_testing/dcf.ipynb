{
 "cells": [
  {
   "cell_type": "code",
   "execution_count": 16,
   "metadata": {},
   "outputs": [],
   "source": [
    "import numpy as np\n",
    "import pandas as pd\n",
    "import requests\n",
    "from excel_to_df import excel_to_df"
   ]
  },
  {
   "cell_type": "code",
   "execution_count": 27,
   "metadata": {},
   "outputs": [],
   "source": [
    "url = \"https://apidojo-yahoo-finance-v1.p.rapidapi.com/stock/v2/get-financials\"\n",
    "\n",
    "querystring = {\"symbol\":\"AAPL\"}\n",
    "\n",
    "headers = {\n",
    "    'x-rapidapi-host': \"apidojo-yahoo-finance-v1.p.rapidapi.com\",\n",
    "    'x-rapidapi-key': \"ee394341bbmsh8c35e24e6eb2c23p1f49fcjsn8cf1179e5bce\"\n",
    "    }\n",
    "\n",
    "response = requests.request(\"GET\", url, headers=headers, params=querystring)\n",
    "financials = response.json()"
   ]
  },
  {
   "cell_type": "code",
   "execution_count": 14,
   "metadata": {},
   "outputs": [],
   "source": [
    "df_pl,df_cf,df_bs = excel_to_df('apple-y.xlsx')"
   ]
  },
  {
   "cell_type": "code",
   "execution_count": 17,
   "metadata": {},
   "outputs": [],
   "source": [
    "df_cf.loc['Free Cash Flow'] = df_cf.loc['Cash from Operating Activities'] + df_cf.loc['Change in Fixed Assets & Intangibles']"
   ]
  },
  {
   "cell_type": "code",
   "execution_count": 18,
   "metadata": {},
   "outputs": [],
   "source": [
    "df_cf = df_cf.reindex(columns=[*df_cf.columns.tolist()], fill_value=0)"
   ]
  },
  {
   "cell_type": "code",
   "execution_count": 19,
   "metadata": {},
   "outputs": [
    {
     "data": {
      "text/html": [
       "<div>\n",
       "<style scoped>\n",
       "    .dataframe tbody tr th:only-of-type {\n",
       "        vertical-align: middle;\n",
       "    }\n",
       "\n",
       "    .dataframe tbody tr th {\n",
       "        vertical-align: top;\n",
       "    }\n",
       "\n",
       "    .dataframe thead th {\n",
       "        text-align: right;\n",
       "    }\n",
       "</style>\n",
       "<table border=\"1\" class=\"dataframe\">\n",
       "  <thead>\n",
       "    <tr style=\"text-align: right;\">\n",
       "      <th>43</th>\n",
       "      <th>FY '10</th>\n",
       "      <th>FY '11</th>\n",
       "      <th>FY '12</th>\n",
       "      <th>FY '13</th>\n",
       "      <th>FY '14</th>\n",
       "      <th>FY '15</th>\n",
       "      <th>FY '16</th>\n",
       "      <th>FY '17</th>\n",
       "      <th>FY '18</th>\n",
       "      <th>FY '19</th>\n",
       "    </tr>\n",
       "    <tr>\n",
       "      <th>in million USD</th>\n",
       "      <th></th>\n",
       "      <th></th>\n",
       "      <th></th>\n",
       "      <th></th>\n",
       "      <th></th>\n",
       "      <th></th>\n",
       "      <th></th>\n",
       "      <th></th>\n",
       "      <th></th>\n",
       "      <th></th>\n",
       "    </tr>\n",
       "  </thead>\n",
       "  <tbody>\n",
       "    <tr>\n",
       "      <th>Net Income/Starting Line</th>\n",
       "      <td>14013.0</td>\n",
       "      <td>25922.0</td>\n",
       "      <td>41733.0</td>\n",
       "      <td>37037.0</td>\n",
       "      <td>39510.0</td>\n",
       "      <td>53394.0</td>\n",
       "      <td>45687.0</td>\n",
       "      <td>48351.0</td>\n",
       "      <td>59531.0</td>\n",
       "      <td>55256.0</td>\n",
       "    </tr>\n",
       "    <tr>\n",
       "      <th>Depreciation &amp; Amortization</th>\n",
       "      <td>1027.0</td>\n",
       "      <td>1814.0</td>\n",
       "      <td>3277.0</td>\n",
       "      <td>6757.0</td>\n",
       "      <td>7946.0</td>\n",
       "      <td>11257.0</td>\n",
       "      <td>10505.0</td>\n",
       "      <td>10157.0</td>\n",
       "      <td>10903.0</td>\n",
       "      <td>12547.0</td>\n",
       "    </tr>\n",
       "    <tr>\n",
       "      <th>Non-Cash Items</th>\n",
       "      <td>2319.0</td>\n",
       "      <td>4036.0</td>\n",
       "      <td>6145.0</td>\n",
       "      <td>3394.0</td>\n",
       "      <td>5210.0</td>\n",
       "      <td>5353.0</td>\n",
       "      <td>9634.0</td>\n",
       "      <td>10640.0</td>\n",
       "      <td>-27694.0</td>\n",
       "      <td>5076.0</td>\n",
       "    </tr>\n",
       "    <tr>\n",
       "      <th>Change in Working Capital</th>\n",
       "      <td>1236.0</td>\n",
       "      <td>5757.0</td>\n",
       "      <td>-299.0</td>\n",
       "      <td>6478.0</td>\n",
       "      <td>7047.0</td>\n",
       "      <td>11262.0</td>\n",
       "      <td>405.0</td>\n",
       "      <td>-4923.0</td>\n",
       "      <td>34694.0</td>\n",
       "      <td>-3488.0</td>\n",
       "    </tr>\n",
       "    <tr>\n",
       "      <th>Cash from Operating Activities</th>\n",
       "      <td>18595.0</td>\n",
       "      <td>37529.0</td>\n",
       "      <td>50856.0</td>\n",
       "      <td>53666.0</td>\n",
       "      <td>59713.0</td>\n",
       "      <td>81266.0</td>\n",
       "      <td>66231.0</td>\n",
       "      <td>64225.0</td>\n",
       "      <td>77434.0</td>\n",
       "      <td>69391.0</td>\n",
       "    </tr>\n",
       "    <tr>\n",
       "      <th>Change in Fixed Assets &amp; Intangibles</th>\n",
       "      <td>-2121.0</td>\n",
       "      <td>-7452.0</td>\n",
       "      <td>-9402.0</td>\n",
       "      <td>-9076.0</td>\n",
       "      <td>-9813.0</td>\n",
       "      <td>-11488.0</td>\n",
       "      <td>-12734.0</td>\n",
       "      <td>-12451.0</td>\n",
       "      <td>-13313.0</td>\n",
       "      <td>-10495.0</td>\n",
       "    </tr>\n",
       "    <tr>\n",
       "      <th>Net Change in Long Term Investment</th>\n",
       "      <td>-11075.0</td>\n",
       "      <td>-32464.0</td>\n",
       "      <td>-38427.0</td>\n",
       "      <td>-24042.0</td>\n",
       "      <td>-9027.0</td>\n",
       "      <td>-44417.0</td>\n",
       "      <td>-32022.0</td>\n",
       "      <td>-33668.0</td>\n",
       "      <td>30492.0</td>\n",
       "      <td>56459.0</td>\n",
       "    </tr>\n",
       "    <tr>\n",
       "      <th>Net Cash From Acquisitions &amp; Divestitures</th>\n",
       "      <td>-638.0</td>\n",
       "      <td>-244.0</td>\n",
       "      <td>-350.0</td>\n",
       "      <td>-496.0</td>\n",
       "      <td>-3765.0</td>\n",
       "      <td>-343.0</td>\n",
       "      <td>-297.0</td>\n",
       "      <td>-329.0</td>\n",
       "      <td>-721.0</td>\n",
       "      <td>-624.0</td>\n",
       "    </tr>\n",
       "    <tr>\n",
       "      <th>Other Investing Activities</th>\n",
       "      <td>-20.0</td>\n",
       "      <td>-259.0</td>\n",
       "      <td>-48.0</td>\n",
       "      <td>-160.0</td>\n",
       "      <td>26.0</td>\n",
       "      <td>-26.0</td>\n",
       "      <td>-924.0</td>\n",
       "      <td>2.0</td>\n",
       "      <td>-392.0</td>\n",
       "      <td>556.0</td>\n",
       "    </tr>\n",
       "    <tr>\n",
       "      <th>Cash from Investing Activities</th>\n",
       "      <td>-13854.0</td>\n",
       "      <td>-40419.0</td>\n",
       "      <td>-48227.0</td>\n",
       "      <td>-33774.0</td>\n",
       "      <td>-22579.0</td>\n",
       "      <td>-56274.0</td>\n",
       "      <td>-45977.0</td>\n",
       "      <td>-46446.0</td>\n",
       "      <td>16066.0</td>\n",
       "      <td>45896.0</td>\n",
       "    </tr>\n",
       "    <tr>\n",
       "      <th>Dividends Paid</th>\n",
       "      <td>0.0</td>\n",
       "      <td>0.0</td>\n",
       "      <td>-2488.0</td>\n",
       "      <td>-10564.0</td>\n",
       "      <td>-11126.0</td>\n",
       "      <td>-11561.0</td>\n",
       "      <td>-12150.0</td>\n",
       "      <td>-12769.0</td>\n",
       "      <td>-13712.0</td>\n",
       "      <td>-14119.0</td>\n",
       "    </tr>\n",
       "    <tr>\n",
       "      <th>Cash From (Repayment of) Debt</th>\n",
       "      <td>0.0</td>\n",
       "      <td>0.0</td>\n",
       "      <td>0.0</td>\n",
       "      <td>16896.0</td>\n",
       "      <td>18266.0</td>\n",
       "      <td>29305.0</td>\n",
       "      <td>22057.0</td>\n",
       "      <td>29014.0</td>\n",
       "      <td>432.0</td>\n",
       "      <td>-7819.0</td>\n",
       "    </tr>\n",
       "    <tr>\n",
       "      <th>Cash From (Repurchase of) Equity</th>\n",
       "      <td>912.0</td>\n",
       "      <td>831.0</td>\n",
       "      <td>665.0</td>\n",
       "      <td>-22330.0</td>\n",
       "      <td>-44270.0</td>\n",
       "      <td>-34710.0</td>\n",
       "      <td>-29227.0</td>\n",
       "      <td>-32345.0</td>\n",
       "      <td>-72069.0</td>\n",
       "      <td>-66116.0</td>\n",
       "    </tr>\n",
       "    <tr>\n",
       "      <th>Other Financing Activities</th>\n",
       "      <td>345.0</td>\n",
       "      <td>613.0</td>\n",
       "      <td>125.0</td>\n",
       "      <td>-381.0</td>\n",
       "      <td>-419.0</td>\n",
       "      <td>-750.0</td>\n",
       "      <td>-1570.0</td>\n",
       "      <td>-1874.0</td>\n",
       "      <td>-2527.0</td>\n",
       "      <td>-2922.0</td>\n",
       "    </tr>\n",
       "    <tr>\n",
       "      <th>Cash from Financing Activities</th>\n",
       "      <td>1257.0</td>\n",
       "      <td>1444.0</td>\n",
       "      <td>-1698.0</td>\n",
       "      <td>-16379.0</td>\n",
       "      <td>-37549.0</td>\n",
       "      <td>-17716.0</td>\n",
       "      <td>-20890.0</td>\n",
       "      <td>-17974.0</td>\n",
       "      <td>-87876.0</td>\n",
       "      <td>-90976.0</td>\n",
       "    </tr>\n",
       "    <tr>\n",
       "      <th>Net Changes in Cash</th>\n",
       "      <td>5998.0</td>\n",
       "      <td>-1446.0</td>\n",
       "      <td>931.0</td>\n",
       "      <td>3513.0</td>\n",
       "      <td>-415.0</td>\n",
       "      <td>7276.0</td>\n",
       "      <td>-636.0</td>\n",
       "      <td>-195.0</td>\n",
       "      <td>5624.0</td>\n",
       "      <td>24311.0</td>\n",
       "    </tr>\n",
       "    <tr>\n",
       "      <th>Free Cash Flow</th>\n",
       "      <td>16474.0</td>\n",
       "      <td>30077.0</td>\n",
       "      <td>41454.0</td>\n",
       "      <td>44590.0</td>\n",
       "      <td>49900.0</td>\n",
       "      <td>69778.0</td>\n",
       "      <td>53497.0</td>\n",
       "      <td>51774.0</td>\n",
       "      <td>64121.0</td>\n",
       "      <td>58896.0</td>\n",
       "    </tr>\n",
       "  </tbody>\n",
       "</table>\n",
       "</div>"
      ],
      "text/plain": [
       "43                                          FY '10   FY '11   FY '12   FY '13  \\\n",
       "in million USD                                                                  \n",
       "Net Income/Starting Line                   14013.0  25922.0  41733.0  37037.0   \n",
       "Depreciation & Amortization                 1027.0   1814.0   3277.0   6757.0   \n",
       "Non-Cash Items                              2319.0   4036.0   6145.0   3394.0   \n",
       "Change in Working Capital                   1236.0   5757.0   -299.0   6478.0   \n",
       "Cash from Operating Activities             18595.0  37529.0  50856.0  53666.0   \n",
       "Change in Fixed Assets & Intangibles       -2121.0  -7452.0  -9402.0  -9076.0   \n",
       "Net Change in Long Term Investment        -11075.0 -32464.0 -38427.0 -24042.0   \n",
       "Net Cash From Acquisitions & Divestitures   -638.0   -244.0   -350.0   -496.0   \n",
       "Other Investing Activities                   -20.0   -259.0    -48.0   -160.0   \n",
       "Cash from Investing Activities            -13854.0 -40419.0 -48227.0 -33774.0   \n",
       "Dividends Paid                                 0.0      0.0  -2488.0 -10564.0   \n",
       "Cash From (Repayment of) Debt                  0.0      0.0      0.0  16896.0   \n",
       "Cash From (Repurchase of) Equity             912.0    831.0    665.0 -22330.0   \n",
       "Other Financing Activities                   345.0    613.0    125.0   -381.0   \n",
       "Cash from Financing Activities              1257.0   1444.0  -1698.0 -16379.0   \n",
       "Net Changes in Cash                         5998.0  -1446.0    931.0   3513.0   \n",
       "Free Cash Flow                             16474.0  30077.0  41454.0  44590.0   \n",
       "\n",
       "43                                          FY '14   FY '15   FY '16   FY '17  \\\n",
       "in million USD                                                                  \n",
       "Net Income/Starting Line                   39510.0  53394.0  45687.0  48351.0   \n",
       "Depreciation & Amortization                 7946.0  11257.0  10505.0  10157.0   \n",
       "Non-Cash Items                              5210.0   5353.0   9634.0  10640.0   \n",
       "Change in Working Capital                   7047.0  11262.0    405.0  -4923.0   \n",
       "Cash from Operating Activities             59713.0  81266.0  66231.0  64225.0   \n",
       "Change in Fixed Assets & Intangibles       -9813.0 -11488.0 -12734.0 -12451.0   \n",
       "Net Change in Long Term Investment         -9027.0 -44417.0 -32022.0 -33668.0   \n",
       "Net Cash From Acquisitions & Divestitures  -3765.0   -343.0   -297.0   -329.0   \n",
       "Other Investing Activities                    26.0    -26.0   -924.0      2.0   \n",
       "Cash from Investing Activities            -22579.0 -56274.0 -45977.0 -46446.0   \n",
       "Dividends Paid                            -11126.0 -11561.0 -12150.0 -12769.0   \n",
       "Cash From (Repayment of) Debt              18266.0  29305.0  22057.0  29014.0   \n",
       "Cash From (Repurchase of) Equity          -44270.0 -34710.0 -29227.0 -32345.0   \n",
       "Other Financing Activities                  -419.0   -750.0  -1570.0  -1874.0   \n",
       "Cash from Financing Activities            -37549.0 -17716.0 -20890.0 -17974.0   \n",
       "Net Changes in Cash                         -415.0   7276.0   -636.0   -195.0   \n",
       "Free Cash Flow                             49900.0  69778.0  53497.0  51774.0   \n",
       "\n",
       "43                                          FY '18   FY '19  \n",
       "in million USD                                               \n",
       "Net Income/Starting Line                   59531.0  55256.0  \n",
       "Depreciation & Amortization                10903.0  12547.0  \n",
       "Non-Cash Items                            -27694.0   5076.0  \n",
       "Change in Working Capital                  34694.0  -3488.0  \n",
       "Cash from Operating Activities             77434.0  69391.0  \n",
       "Change in Fixed Assets & Intangibles      -13313.0 -10495.0  \n",
       "Net Change in Long Term Investment         30492.0  56459.0  \n",
       "Net Cash From Acquisitions & Divestitures   -721.0   -624.0  \n",
       "Other Investing Activities                  -392.0    556.0  \n",
       "Cash from Investing Activities             16066.0  45896.0  \n",
       "Dividends Paid                            -13712.0 -14119.0  \n",
       "Cash From (Repayment of) Debt                432.0  -7819.0  \n",
       "Cash From (Repurchase of) Equity          -72069.0 -66116.0  \n",
       "Other Financing Activities                 -2527.0  -2922.0  \n",
       "Cash from Financing Activities            -87876.0 -90976.0  \n",
       "Net Changes in Cash                         5624.0  24311.0  \n",
       "Free Cash Flow                             64121.0  58896.0  "
      ]
     },
     "execution_count": 19,
     "metadata": {},
     "output_type": "execute_result"
    }
   ],
   "source": [
    "df_cf"
   ]
  },
  {
   "cell_type": "code",
   "execution_count": 20,
   "metadata": {},
   "outputs": [],
   "source": [
    "df_cf.loc[\"FCFE/Net Income(%)\"] = (df_cf.loc['Free Cash Flow'] / df_cf.loc['Net Income/Starting Line']) * 100"
   ]
  },
  {
   "cell_type": "code",
   "execution_count": 21,
   "metadata": {},
   "outputs": [
    {
     "data": {
      "text/html": [
       "<div>\n",
       "<style scoped>\n",
       "    .dataframe tbody tr th:only-of-type {\n",
       "        vertical-align: middle;\n",
       "    }\n",
       "\n",
       "    .dataframe tbody tr th {\n",
       "        vertical-align: top;\n",
       "    }\n",
       "\n",
       "    .dataframe thead th {\n",
       "        text-align: right;\n",
       "    }\n",
       "</style>\n",
       "<table border=\"1\" class=\"dataframe\">\n",
       "  <thead>\n",
       "    <tr style=\"text-align: right;\">\n",
       "      <th>43</th>\n",
       "      <th>FY '10</th>\n",
       "      <th>FY '11</th>\n",
       "      <th>FY '12</th>\n",
       "      <th>FY '13</th>\n",
       "      <th>FY '14</th>\n",
       "      <th>FY '15</th>\n",
       "      <th>FY '16</th>\n",
       "      <th>FY '17</th>\n",
       "      <th>FY '18</th>\n",
       "      <th>FY '19</th>\n",
       "    </tr>\n",
       "    <tr>\n",
       "      <th>in million USD</th>\n",
       "      <th></th>\n",
       "      <th></th>\n",
       "      <th></th>\n",
       "      <th></th>\n",
       "      <th></th>\n",
       "      <th></th>\n",
       "      <th></th>\n",
       "      <th></th>\n",
       "      <th></th>\n",
       "      <th></th>\n",
       "    </tr>\n",
       "  </thead>\n",
       "  <tbody>\n",
       "    <tr>\n",
       "      <th>Net Income/Starting Line</th>\n",
       "      <td>14013.0</td>\n",
       "      <td>25922.0</td>\n",
       "      <td>41733.0</td>\n",
       "      <td>37037.0</td>\n",
       "      <td>39510.0</td>\n",
       "      <td>53394.0</td>\n",
       "      <td>45687.0</td>\n",
       "      <td>48351.0</td>\n",
       "      <td>59531.0</td>\n",
       "      <td>55256.0</td>\n",
       "    </tr>\n",
       "    <tr>\n",
       "      <th>Depreciation &amp; Amortization</th>\n",
       "      <td>1027.0</td>\n",
       "      <td>1814.0</td>\n",
       "      <td>3277.0</td>\n",
       "      <td>6757.0</td>\n",
       "      <td>7946.0</td>\n",
       "      <td>11257.0</td>\n",
       "      <td>10505.0</td>\n",
       "      <td>10157.0</td>\n",
       "      <td>10903.0</td>\n",
       "      <td>12547.0</td>\n",
       "    </tr>\n",
       "    <tr>\n",
       "      <th>Non-Cash Items</th>\n",
       "      <td>2319.0</td>\n",
       "      <td>4036.0</td>\n",
       "      <td>6145.0</td>\n",
       "      <td>3394.0</td>\n",
       "      <td>5210.0</td>\n",
       "      <td>5353.0</td>\n",
       "      <td>9634.0</td>\n",
       "      <td>10640.0</td>\n",
       "      <td>-27694.0</td>\n",
       "      <td>5076.0</td>\n",
       "    </tr>\n",
       "    <tr>\n",
       "      <th>Change in Working Capital</th>\n",
       "      <td>1236.0</td>\n",
       "      <td>5757.0</td>\n",
       "      <td>-299.0</td>\n",
       "      <td>6478.0</td>\n",
       "      <td>7047.0</td>\n",
       "      <td>11262.0</td>\n",
       "      <td>405.0</td>\n",
       "      <td>-4923.0</td>\n",
       "      <td>34694.0</td>\n",
       "      <td>-3488.0</td>\n",
       "    </tr>\n",
       "    <tr>\n",
       "      <th>Cash from Operating Activities</th>\n",
       "      <td>18595.0</td>\n",
       "      <td>37529.0</td>\n",
       "      <td>50856.0</td>\n",
       "      <td>53666.0</td>\n",
       "      <td>59713.0</td>\n",
       "      <td>81266.0</td>\n",
       "      <td>66231.0</td>\n",
       "      <td>64225.0</td>\n",
       "      <td>77434.0</td>\n",
       "      <td>69391.0</td>\n",
       "    </tr>\n",
       "    <tr>\n",
       "      <th>Change in Fixed Assets &amp; Intangibles</th>\n",
       "      <td>-2121.0</td>\n",
       "      <td>-7452.0</td>\n",
       "      <td>-9402.0</td>\n",
       "      <td>-9076.0</td>\n",
       "      <td>-9813.0</td>\n",
       "      <td>-11488.0</td>\n",
       "      <td>-12734.0</td>\n",
       "      <td>-12451.0</td>\n",
       "      <td>-13313.0</td>\n",
       "      <td>-10495.0</td>\n",
       "    </tr>\n",
       "    <tr>\n",
       "      <th>Net Change in Long Term Investment</th>\n",
       "      <td>-11075.0</td>\n",
       "      <td>-32464.0</td>\n",
       "      <td>-38427.0</td>\n",
       "      <td>-24042.0</td>\n",
       "      <td>-9027.0</td>\n",
       "      <td>-44417.0</td>\n",
       "      <td>-32022.0</td>\n",
       "      <td>-33668.0</td>\n",
       "      <td>30492.0</td>\n",
       "      <td>56459.0</td>\n",
       "    </tr>\n",
       "    <tr>\n",
       "      <th>Net Cash From Acquisitions &amp; Divestitures</th>\n",
       "      <td>-638.0</td>\n",
       "      <td>-244.0</td>\n",
       "      <td>-350.0</td>\n",
       "      <td>-496.0</td>\n",
       "      <td>-3765.0</td>\n",
       "      <td>-343.0</td>\n",
       "      <td>-297.0</td>\n",
       "      <td>-329.0</td>\n",
       "      <td>-721.0</td>\n",
       "      <td>-624.0</td>\n",
       "    </tr>\n",
       "    <tr>\n",
       "      <th>Other Investing Activities</th>\n",
       "      <td>-20.0</td>\n",
       "      <td>-259.0</td>\n",
       "      <td>-48.0</td>\n",
       "      <td>-160.0</td>\n",
       "      <td>26.0</td>\n",
       "      <td>-26.0</td>\n",
       "      <td>-924.0</td>\n",
       "      <td>2.0</td>\n",
       "      <td>-392.0</td>\n",
       "      <td>556.0</td>\n",
       "    </tr>\n",
       "    <tr>\n",
       "      <th>Cash from Investing Activities</th>\n",
       "      <td>-13854.0</td>\n",
       "      <td>-40419.0</td>\n",
       "      <td>-48227.0</td>\n",
       "      <td>-33774.0</td>\n",
       "      <td>-22579.0</td>\n",
       "      <td>-56274.0</td>\n",
       "      <td>-45977.0</td>\n",
       "      <td>-46446.0</td>\n",
       "      <td>16066.0</td>\n",
       "      <td>45896.0</td>\n",
       "    </tr>\n",
       "    <tr>\n",
       "      <th>Dividends Paid</th>\n",
       "      <td>0.0</td>\n",
       "      <td>0.0</td>\n",
       "      <td>-2488.0</td>\n",
       "      <td>-10564.0</td>\n",
       "      <td>-11126.0</td>\n",
       "      <td>-11561.0</td>\n",
       "      <td>-12150.0</td>\n",
       "      <td>-12769.0</td>\n",
       "      <td>-13712.0</td>\n",
       "      <td>-14119.0</td>\n",
       "    </tr>\n",
       "    <tr>\n",
       "      <th>Cash From (Repayment of) Debt</th>\n",
       "      <td>0.0</td>\n",
       "      <td>0.0</td>\n",
       "      <td>0.0</td>\n",
       "      <td>16896.0</td>\n",
       "      <td>18266.0</td>\n",
       "      <td>29305.0</td>\n",
       "      <td>22057.0</td>\n",
       "      <td>29014.0</td>\n",
       "      <td>432.0</td>\n",
       "      <td>-7819.0</td>\n",
       "    </tr>\n",
       "    <tr>\n",
       "      <th>Cash From (Repurchase of) Equity</th>\n",
       "      <td>912.0</td>\n",
       "      <td>831.0</td>\n",
       "      <td>665.0</td>\n",
       "      <td>-22330.0</td>\n",
       "      <td>-44270.0</td>\n",
       "      <td>-34710.0</td>\n",
       "      <td>-29227.0</td>\n",
       "      <td>-32345.0</td>\n",
       "      <td>-72069.0</td>\n",
       "      <td>-66116.0</td>\n",
       "    </tr>\n",
       "    <tr>\n",
       "      <th>Other Financing Activities</th>\n",
       "      <td>345.0</td>\n",
       "      <td>613.0</td>\n",
       "      <td>125.0</td>\n",
       "      <td>-381.0</td>\n",
       "      <td>-419.0</td>\n",
       "      <td>-750.0</td>\n",
       "      <td>-1570.0</td>\n",
       "      <td>-1874.0</td>\n",
       "      <td>-2527.0</td>\n",
       "      <td>-2922.0</td>\n",
       "    </tr>\n",
       "    <tr>\n",
       "      <th>Cash from Financing Activities</th>\n",
       "      <td>1257.0</td>\n",
       "      <td>1444.0</td>\n",
       "      <td>-1698.0</td>\n",
       "      <td>-16379.0</td>\n",
       "      <td>-37549.0</td>\n",
       "      <td>-17716.0</td>\n",
       "      <td>-20890.0</td>\n",
       "      <td>-17974.0</td>\n",
       "      <td>-87876.0</td>\n",
       "      <td>-90976.0</td>\n",
       "    </tr>\n",
       "    <tr>\n",
       "      <th>Net Changes in Cash</th>\n",
       "      <td>5998.0</td>\n",
       "      <td>-1446.0</td>\n",
       "      <td>931.0</td>\n",
       "      <td>3513.0</td>\n",
       "      <td>-415.0</td>\n",
       "      <td>7276.0</td>\n",
       "      <td>-636.0</td>\n",
       "      <td>-195.0</td>\n",
       "      <td>5624.0</td>\n",
       "      <td>24311.0</td>\n",
       "    </tr>\n",
       "    <tr>\n",
       "      <th>Free Cash Flow</th>\n",
       "      <td>16474.0</td>\n",
       "      <td>30077.0</td>\n",
       "      <td>41454.0</td>\n",
       "      <td>44590.0</td>\n",
       "      <td>49900.0</td>\n",
       "      <td>69778.0</td>\n",
       "      <td>53497.0</td>\n",
       "      <td>51774.0</td>\n",
       "      <td>64121.0</td>\n",
       "      <td>58896.0</td>\n",
       "    </tr>\n",
       "    <tr>\n",
       "      <th>FCFE/Net Income(%)</th>\n",
       "      <td>117.6</td>\n",
       "      <td>116.0</td>\n",
       "      <td>99.3</td>\n",
       "      <td>120.4</td>\n",
       "      <td>126.3</td>\n",
       "      <td>130.7</td>\n",
       "      <td>117.1</td>\n",
       "      <td>107.1</td>\n",
       "      <td>107.7</td>\n",
       "      <td>106.6</td>\n",
       "    </tr>\n",
       "  </tbody>\n",
       "</table>\n",
       "</div>"
      ],
      "text/plain": [
       "43                                          FY '10   FY '11   FY '12   FY '13  \\\n",
       "in million USD                                                                  \n",
       "Net Income/Starting Line                   14013.0  25922.0  41733.0  37037.0   \n",
       "Depreciation & Amortization                 1027.0   1814.0   3277.0   6757.0   \n",
       "Non-Cash Items                              2319.0   4036.0   6145.0   3394.0   \n",
       "Change in Working Capital                   1236.0   5757.0   -299.0   6478.0   \n",
       "Cash from Operating Activities             18595.0  37529.0  50856.0  53666.0   \n",
       "Change in Fixed Assets & Intangibles       -2121.0  -7452.0  -9402.0  -9076.0   \n",
       "Net Change in Long Term Investment        -11075.0 -32464.0 -38427.0 -24042.0   \n",
       "Net Cash From Acquisitions & Divestitures   -638.0   -244.0   -350.0   -496.0   \n",
       "Other Investing Activities                   -20.0   -259.0    -48.0   -160.0   \n",
       "Cash from Investing Activities            -13854.0 -40419.0 -48227.0 -33774.0   \n",
       "Dividends Paid                                 0.0      0.0  -2488.0 -10564.0   \n",
       "Cash From (Repayment of) Debt                  0.0      0.0      0.0  16896.0   \n",
       "Cash From (Repurchase of) Equity             912.0    831.0    665.0 -22330.0   \n",
       "Other Financing Activities                   345.0    613.0    125.0   -381.0   \n",
       "Cash from Financing Activities              1257.0   1444.0  -1698.0 -16379.0   \n",
       "Net Changes in Cash                         5998.0  -1446.0    931.0   3513.0   \n",
       "Free Cash Flow                             16474.0  30077.0  41454.0  44590.0   \n",
       "FCFE/Net Income(%)                           117.6    116.0     99.3    120.4   \n",
       "\n",
       "43                                          FY '14   FY '15   FY '16   FY '17  \\\n",
       "in million USD                                                                  \n",
       "Net Income/Starting Line                   39510.0  53394.0  45687.0  48351.0   \n",
       "Depreciation & Amortization                 7946.0  11257.0  10505.0  10157.0   \n",
       "Non-Cash Items                              5210.0   5353.0   9634.0  10640.0   \n",
       "Change in Working Capital                   7047.0  11262.0    405.0  -4923.0   \n",
       "Cash from Operating Activities             59713.0  81266.0  66231.0  64225.0   \n",
       "Change in Fixed Assets & Intangibles       -9813.0 -11488.0 -12734.0 -12451.0   \n",
       "Net Change in Long Term Investment         -9027.0 -44417.0 -32022.0 -33668.0   \n",
       "Net Cash From Acquisitions & Divestitures  -3765.0   -343.0   -297.0   -329.0   \n",
       "Other Investing Activities                    26.0    -26.0   -924.0      2.0   \n",
       "Cash from Investing Activities            -22579.0 -56274.0 -45977.0 -46446.0   \n",
       "Dividends Paid                            -11126.0 -11561.0 -12150.0 -12769.0   \n",
       "Cash From (Repayment of) Debt              18266.0  29305.0  22057.0  29014.0   \n",
       "Cash From (Repurchase of) Equity          -44270.0 -34710.0 -29227.0 -32345.0   \n",
       "Other Financing Activities                  -419.0   -750.0  -1570.0  -1874.0   \n",
       "Cash from Financing Activities            -37549.0 -17716.0 -20890.0 -17974.0   \n",
       "Net Changes in Cash                         -415.0   7276.0   -636.0   -195.0   \n",
       "Free Cash Flow                             49900.0  69778.0  53497.0  51774.0   \n",
       "FCFE/Net Income(%)                           126.3    130.7    117.1    107.1   \n",
       "\n",
       "43                                          FY '18   FY '19  \n",
       "in million USD                                               \n",
       "Net Income/Starting Line                   59531.0  55256.0  \n",
       "Depreciation & Amortization                10903.0  12547.0  \n",
       "Non-Cash Items                            -27694.0   5076.0  \n",
       "Change in Working Capital                  34694.0  -3488.0  \n",
       "Cash from Operating Activities             77434.0  69391.0  \n",
       "Change in Fixed Assets & Intangibles      -13313.0 -10495.0  \n",
       "Net Change in Long Term Investment         30492.0  56459.0  \n",
       "Net Cash From Acquisitions & Divestitures   -721.0   -624.0  \n",
       "Other Investing Activities                  -392.0    556.0  \n",
       "Cash from Investing Activities             16066.0  45896.0  \n",
       "Dividends Paid                            -13712.0 -14119.0  \n",
       "Cash From (Repayment of) Debt                432.0  -7819.0  \n",
       "Cash From (Repurchase of) Equity          -72069.0 -66116.0  \n",
       "Other Financing Activities                 -2527.0  -2922.0  \n",
       "Cash from Financing Activities            -87876.0 -90976.0  \n",
       "Net Changes in Cash                         5624.0  24311.0  \n",
       "Free Cash Flow                             64121.0  58896.0  \n",
       "FCFE/Net Income(%)                           107.7    106.6  "
      ]
     },
     "execution_count": 21,
     "metadata": {},
     "output_type": "execute_result"
    }
   ],
   "source": [
    "df_cf = df_cf.round(1)\n",
    "df_cf"
   ]
  },
  {
   "cell_type": "code",
   "execution_count": 22,
   "metadata": {},
   "outputs": [
    {
     "data": {
      "text/plain": [
       "2\n",
       "FY '10     65225.0\n",
       "FY '11    108249.0\n",
       "FY '12    156508.0\n",
       "FY '13    170910.0\n",
       "FY '14    182795.0\n",
       "FY '15    233715.0\n",
       "FY '16    215639.0\n",
       "FY '17    229234.0\n",
       "FY '18    265595.0\n",
       "FY '19    260174.0\n",
       "Name: Revenue, dtype: float64"
      ]
     },
     "execution_count": 22,
     "metadata": {},
     "output_type": "execute_result"
    }
   ],
   "source": [
    "cur_rev = df_pl.loc[\"Revenue\"]\n",
    "cur_rev"
   ]
  },
  {
   "cell_type": "code",
   "execution_count": 23,
   "metadata": {},
   "outputs": [],
   "source": [
    "rev_est = pd.Series([274860.0, 295930.0], index=[\"FY '20\",\"FY '21\"])"
   ]
  },
  {
   "cell_type": "code",
   "execution_count": 24,
   "metadata": {},
   "outputs": [],
   "source": [
    "rev = cur_rev.append(rev_est)"
   ]
  },
  {
   "cell_type": "code",
   "execution_count": 25,
   "metadata": {},
   "outputs": [],
   "source": [
    "pct_change = rev.pct_change()"
   ]
  },
  {
   "cell_type": "code",
   "execution_count": 26,
   "metadata": {},
   "outputs": [
    {
     "data": {
      "text/plain": [
       "0.06655202336419264"
      ]
     },
     "execution_count": 26,
     "metadata": {},
     "output_type": "execute_result"
    }
   ],
   "source": [
    "pct_change[-2:].mean()"
   ]
  },
  {
   "cell_type": "code",
   "execution_count": 27,
   "metadata": {},
   "outputs": [
    {
     "data": {
      "text/plain": [
       "FY '10     65225.0\n",
       "FY '11    108249.0\n",
       "FY '12    156508.0\n",
       "FY '13    170910.0\n",
       "FY '14    182795.0\n",
       "FY '15    233715.0\n",
       "FY '16    215639.0\n",
       "FY '17    229234.0\n",
       "FY '18    265595.0\n",
       "FY '19    260174.0\n",
       "FY '20    274860.0\n",
       "FY '21    295930.0\n",
       "dtype: float64"
      ]
     },
     "execution_count": 27,
     "metadata": {},
     "output_type": "execute_result"
    }
   ],
   "source": [
    "rev"
   ]
  },
  {
   "cell_type": "code",
   "execution_count": 28,
   "metadata": {},
   "outputs": [
    {
     "data": {
      "text/plain": [
       "FY '22    315624.740274\n",
       "FY '23    336630.205363\n",
       "dtype: float64"
      ]
     },
     "execution_count": 28,
     "metadata": {},
     "output_type": "execute_result"
    }
   ],
   "source": [
    "fy22 = rev[-1] * (1 + pct_change[-2:].mean())\n",
    "fy23 = fy22 * (1 + pct_change[-2:].mean())\n",
    "rev_proj = pd.Series([fy22, fy23], index=[\"FY '22\",\"FY '23\"])\n",
    "rev_proj"
   ]
  },
  {
   "cell_type": "code",
   "execution_count": 29,
   "metadata": {},
   "outputs": [
    {
     "data": {
      "text/plain": [
       "FY '10     65225.000000\n",
       "FY '11    108249.000000\n",
       "FY '12    156508.000000\n",
       "FY '13    170910.000000\n",
       "FY '14    182795.000000\n",
       "FY '15    233715.000000\n",
       "FY '16    215639.000000\n",
       "FY '17    229234.000000\n",
       "FY '18    265595.000000\n",
       "FY '19    260174.000000\n",
       "FY '20    274860.000000\n",
       "FY '21    295930.000000\n",
       "FY '22    315624.740274\n",
       "FY '23    336630.205363\n",
       "dtype: float64"
      ]
     },
     "execution_count": 29,
     "metadata": {},
     "output_type": "execute_result"
    }
   ],
   "source": [
    "rev_new = rev.append(rev_proj)\n",
    "rev_new"
   ]
  },
  {
   "cell_type": "code",
   "execution_count": 37,
   "metadata": {},
   "outputs": [
    {
     "data": {
      "text/html": [
       "<div>\n",
       "<style scoped>\n",
       "    .dataframe tbody tr th:only-of-type {\n",
       "        vertical-align: middle;\n",
       "    }\n",
       "\n",
       "    .dataframe tbody tr th {\n",
       "        vertical-align: top;\n",
       "    }\n",
       "\n",
       "    .dataframe thead th {\n",
       "        text-align: right;\n",
       "    }\n",
       "</style>\n",
       "<table border=\"1\" class=\"dataframe\">\n",
       "  <thead>\n",
       "    <tr style=\"text-align: right;\">\n",
       "      <th></th>\n",
       "      <th>FY '10</th>\n",
       "      <th>FY '11</th>\n",
       "      <th>FY '12</th>\n",
       "      <th>FY '13</th>\n",
       "      <th>FY '14</th>\n",
       "      <th>FY '15</th>\n",
       "      <th>FY '16</th>\n",
       "      <th>FY '17</th>\n",
       "      <th>FY '18</th>\n",
       "      <th>FY '19</th>\n",
       "      <th>FY '20</th>\n",
       "      <th>FY '21</th>\n",
       "      <th>FY '22</th>\n",
       "      <th>FY '23</th>\n",
       "    </tr>\n",
       "  </thead>\n",
       "  <tbody>\n",
       "    <tr>\n",
       "      <th>Revenue</th>\n",
       "      <td>65225.0</td>\n",
       "      <td>108249.0</td>\n",
       "      <td>156508.0</td>\n",
       "      <td>170910.0</td>\n",
       "      <td>182795.0</td>\n",
       "      <td>233715.0</td>\n",
       "      <td>215639.0</td>\n",
       "      <td>229234.0</td>\n",
       "      <td>265595.0</td>\n",
       "      <td>260174.0</td>\n",
       "      <td>274860.0</td>\n",
       "      <td>295930.0</td>\n",
       "      <td>315624.740274</td>\n",
       "      <td>336630.205363</td>\n",
       "    </tr>\n",
       "    <tr>\n",
       "      <th>Net Income</th>\n",
       "      <td>14013.0</td>\n",
       "      <td>25922.0</td>\n",
       "      <td>41733.0</td>\n",
       "      <td>37037.0</td>\n",
       "      <td>39510.0</td>\n",
       "      <td>53394.0</td>\n",
       "      <td>45687.0</td>\n",
       "      <td>48351.0</td>\n",
       "      <td>59531.0</td>\n",
       "      <td>55256.0</td>\n",
       "      <td>NaN</td>\n",
       "      <td>NaN</td>\n",
       "      <td>NaN</td>\n",
       "      <td>NaN</td>\n",
       "    </tr>\n",
       "    <tr>\n",
       "      <th>Free Cash Flow</th>\n",
       "      <td>NaN</td>\n",
       "      <td>NaN</td>\n",
       "      <td>NaN</td>\n",
       "      <td>NaN</td>\n",
       "      <td>NaN</td>\n",
       "      <td>NaN</td>\n",
       "      <td>NaN</td>\n",
       "      <td>NaN</td>\n",
       "      <td>NaN</td>\n",
       "      <td>NaN</td>\n",
       "      <td>NaN</td>\n",
       "      <td>NaN</td>\n",
       "      <td>NaN</td>\n",
       "      <td>NaN</td>\n",
       "    </tr>\n",
       "  </tbody>\n",
       "</table>\n",
       "</div>"
      ],
      "text/plain": [
       "                 FY '10    FY '11    FY '12    FY '13    FY '14    FY '15  \\\n",
       "Revenue         65225.0  108249.0  156508.0  170910.0  182795.0  233715.0   \n",
       "Net Income      14013.0   25922.0   41733.0   37037.0   39510.0   53394.0   \n",
       "Free Cash Flow      NaN       NaN       NaN       NaN       NaN       NaN   \n",
       "\n",
       "                  FY '16    FY '17    FY '18    FY '19    FY '20    FY '21  \\\n",
       "Revenue         215639.0  229234.0  265595.0  260174.0  274860.0  295930.0   \n",
       "Net Income       45687.0   48351.0   59531.0   55256.0       NaN       NaN   \n",
       "Free Cash Flow       NaN       NaN       NaN       NaN       NaN       NaN   \n",
       "\n",
       "                       FY '22         FY '23  \n",
       "Revenue         315624.740274  336630.205363  \n",
       "Net Income                NaN            NaN  \n",
       "Free Cash Flow            NaN            NaN  "
      ]
     },
     "execution_count": 37,
     "metadata": {},
     "output_type": "execute_result"
    }
   ],
   "source": [
    "d = {'Revenue':rev_new, 'Net Income': df_cf.loc['Net Income/Starting Line'], 'Free Cash Flow': np.nan}\n",
    "proj_df = pd.DataFrame(d)\n",
    "income_statement_df = proj_df.T\n",
    "income_statement_df"
   ]
  },
  {
   "cell_type": "code",
   "execution_count": 17,
   "metadata": {},
   "outputs": [],
   "source": [
    "income_statement_df.loc['Net Income Margins'] = income_statement_df.loc['Net Income'] / income_statement_df.loc['Revenue']"
   ]
  },
  {
   "cell_type": "code",
   "execution_count": 18,
   "metadata": {},
   "outputs": [],
   "source": [
    "income_statement_df.loc['Net Income Margins'].fillna(income_statement_df.loc['Net Income Margins'].mean(), inplace=True)"
   ]
  },
  {
   "cell_type": "code",
   "execution_count": 19,
   "metadata": {},
   "outputs": [],
   "source": [
    "income_statement_df.loc['Net Income'].fillna(income_statement_df.loc['Revenue']*income_statement_df.loc['Net Income Margins'], inplace=True)"
   ]
  },
  {
   "cell_type": "code",
   "execution_count": 20,
   "metadata": {},
   "outputs": [
    {
     "data": {
      "text/html": [
       "<div>\n",
       "<style scoped>\n",
       "    .dataframe tbody tr th:only-of-type {\n",
       "        vertical-align: middle;\n",
       "    }\n",
       "\n",
       "    .dataframe tbody tr th {\n",
       "        vertical-align: top;\n",
       "    }\n",
       "\n",
       "    .dataframe thead th {\n",
       "        text-align: right;\n",
       "    }\n",
       "</style>\n",
       "<table border=\"1\" class=\"dataframe\">\n",
       "  <thead>\n",
       "    <tr style=\"text-align: right;\">\n",
       "      <th></th>\n",
       "      <th>FY '10</th>\n",
       "      <th>FY '11</th>\n",
       "      <th>FY '12</th>\n",
       "      <th>FY '13</th>\n",
       "      <th>FY '14</th>\n",
       "      <th>FY '15</th>\n",
       "      <th>FY '16</th>\n",
       "      <th>FY '17</th>\n",
       "      <th>FY '18</th>\n",
       "      <th>FY '19</th>\n",
       "      <th>FY '20</th>\n",
       "      <th>FY '21</th>\n",
       "      <th>FY '22</th>\n",
       "      <th>FY '23</th>\n",
       "    </tr>\n",
       "  </thead>\n",
       "  <tbody>\n",
       "    <tr>\n",
       "      <th>Revenue</th>\n",
       "      <td>65225.000</td>\n",
       "      <td>108249.000</td>\n",
       "      <td>156508.000</td>\n",
       "      <td>170910.000</td>\n",
       "      <td>182795.000</td>\n",
       "      <td>233715.000</td>\n",
       "      <td>215639.000</td>\n",
       "      <td>229234.000</td>\n",
       "      <td>265595.000</td>\n",
       "      <td>260174.000</td>\n",
       "      <td>274860.000</td>\n",
       "      <td>295930.000</td>\n",
       "      <td>315624.740</td>\n",
       "      <td>336630.205</td>\n",
       "    </tr>\n",
       "    <tr>\n",
       "      <th>Net Income</th>\n",
       "      <td>14013.000</td>\n",
       "      <td>25922.000</td>\n",
       "      <td>41733.000</td>\n",
       "      <td>37037.000</td>\n",
       "      <td>39510.000</td>\n",
       "      <td>53394.000</td>\n",
       "      <td>45687.000</td>\n",
       "      <td>48351.000</td>\n",
       "      <td>59531.000</td>\n",
       "      <td>55256.000</td>\n",
       "      <td>61612.057</td>\n",
       "      <td>66335.066</td>\n",
       "      <td>70749.798</td>\n",
       "      <td>75458.341</td>\n",
       "    </tr>\n",
       "    <tr>\n",
       "      <th>Net Income Margins</th>\n",
       "      <td>0.215</td>\n",
       "      <td>0.239</td>\n",
       "      <td>0.267</td>\n",
       "      <td>0.217</td>\n",
       "      <td>0.216</td>\n",
       "      <td>0.228</td>\n",
       "      <td>0.212</td>\n",
       "      <td>0.211</td>\n",
       "      <td>0.224</td>\n",
       "      <td>0.212</td>\n",
       "      <td>0.224</td>\n",
       "      <td>0.224</td>\n",
       "      <td>0.224</td>\n",
       "      <td>0.224</td>\n",
       "    </tr>\n",
       "  </tbody>\n",
       "</table>\n",
       "</div>"
      ],
      "text/plain": [
       "                       FY '10      FY '11      FY '12      FY '13      FY '14  \\\n",
       "Revenue             65225.000  108249.000  156508.000  170910.000  182795.000   \n",
       "Net Income          14013.000   25922.000   41733.000   37037.000   39510.000   \n",
       "Net Income Margins      0.215       0.239       0.267       0.217       0.216   \n",
       "\n",
       "                        FY '15      FY '16      FY '17      FY '18  \\\n",
       "Revenue             233715.000  215639.000  229234.000  265595.000   \n",
       "Net Income           53394.000   45687.000   48351.000   59531.000   \n",
       "Net Income Margins       0.228       0.212       0.211       0.224   \n",
       "\n",
       "                        FY '19      FY '20      FY '21      FY '22      FY '23  \n",
       "Revenue             260174.000  274860.000  295930.000  315624.740  336630.205  \n",
       "Net Income           55256.000   61612.057   66335.066   70749.798   75458.341  \n",
       "Net Income Margins       0.212       0.224       0.224       0.224       0.224  "
      ]
     },
     "execution_count": 20,
     "metadata": {},
     "output_type": "execute_result"
    }
   ],
   "source": [
    "income_statement_df = income_statement_df.round(3)\n",
    "income_statement_df"
   ]
  },
  {
   "cell_type": "code",
   "execution_count": 21,
   "metadata": {},
   "outputs": [],
   "source": [
    "income_statement_df.loc['Free Cash Flow'] = df_cf.loc['Free Cash Flow']\n",
    "fcf_pct = df_cf.loc['FCFE/Net Income(%)'].mean()\n",
    "income_statement_df.loc['Free Cash Flow'].fillna(income_statement_df.loc['Net Income'] * fcf_pct/100, inplace=True)"
   ]
  },
  {
   "cell_type": "code",
   "execution_count": 23,
   "metadata": {},
   "outputs": [],
   "source": [
    "income_statement_df = income_statement_df.round(3)"
   ]
  },
  {
   "cell_type": "code",
   "execution_count": 24,
   "metadata": {},
   "outputs": [
    {
     "data": {
      "text/html": [
       "<div>\n",
       "<style scoped>\n",
       "    .dataframe tbody tr th:only-of-type {\n",
       "        vertical-align: middle;\n",
       "    }\n",
       "\n",
       "    .dataframe tbody tr th {\n",
       "        vertical-align: top;\n",
       "    }\n",
       "\n",
       "    .dataframe thead th {\n",
       "        text-align: right;\n",
       "    }\n",
       "</style>\n",
       "<table border=\"1\" class=\"dataframe\">\n",
       "  <thead>\n",
       "    <tr style=\"text-align: right;\">\n",
       "      <th></th>\n",
       "      <th>FY '10</th>\n",
       "      <th>FY '11</th>\n",
       "      <th>FY '12</th>\n",
       "      <th>FY '13</th>\n",
       "      <th>FY '14</th>\n",
       "      <th>FY '15</th>\n",
       "      <th>FY '16</th>\n",
       "      <th>FY '17</th>\n",
       "      <th>FY '18</th>\n",
       "      <th>FY '19</th>\n",
       "      <th>FY '20</th>\n",
       "      <th>FY '21</th>\n",
       "      <th>FY '22</th>\n",
       "      <th>FY '23</th>\n",
       "    </tr>\n",
       "  </thead>\n",
       "  <tbody>\n",
       "    <tr>\n",
       "      <th>Revenue</th>\n",
       "      <td>65225.000</td>\n",
       "      <td>108249.000</td>\n",
       "      <td>156508.000</td>\n",
       "      <td>170910.000</td>\n",
       "      <td>182795.000</td>\n",
       "      <td>233715.000</td>\n",
       "      <td>215639.000</td>\n",
       "      <td>229234.000</td>\n",
       "      <td>265595.000</td>\n",
       "      <td>260174.000</td>\n",
       "      <td>274860.000</td>\n",
       "      <td>295930.000</td>\n",
       "      <td>315624.740</td>\n",
       "      <td>336630.205</td>\n",
       "    </tr>\n",
       "    <tr>\n",
       "      <th>Net Income</th>\n",
       "      <td>14013.000</td>\n",
       "      <td>25922.000</td>\n",
       "      <td>41733.000</td>\n",
       "      <td>37037.000</td>\n",
       "      <td>39510.000</td>\n",
       "      <td>53394.000</td>\n",
       "      <td>45687.000</td>\n",
       "      <td>48351.000</td>\n",
       "      <td>59531.000</td>\n",
       "      <td>55256.000</td>\n",
       "      <td>61612.057</td>\n",
       "      <td>66335.066</td>\n",
       "      <td>70749.798</td>\n",
       "      <td>75458.341</td>\n",
       "    </tr>\n",
       "    <tr>\n",
       "      <th>Net Income Margins</th>\n",
       "      <td>0.215</td>\n",
       "      <td>0.239</td>\n",
       "      <td>0.267</td>\n",
       "      <td>0.217</td>\n",
       "      <td>0.216</td>\n",
       "      <td>0.228</td>\n",
       "      <td>0.212</td>\n",
       "      <td>0.211</td>\n",
       "      <td>0.224</td>\n",
       "      <td>0.212</td>\n",
       "      <td>0.224</td>\n",
       "      <td>0.224</td>\n",
       "      <td>0.224</td>\n",
       "      <td>0.224</td>\n",
       "    </tr>\n",
       "    <tr>\n",
       "      <th>Free Cash Flow</th>\n",
       "      <td>16474.000</td>\n",
       "      <td>30077.000</td>\n",
       "      <td>41454.000</td>\n",
       "      <td>44590.000</td>\n",
       "      <td>49900.000</td>\n",
       "      <td>69778.000</td>\n",
       "      <td>53497.000</td>\n",
       "      <td>51774.000</td>\n",
       "      <td>64121.000</td>\n",
       "      <td>58896.000</td>\n",
       "      <td>70779.931</td>\n",
       "      <td>76205.724</td>\n",
       "      <td>81277.368</td>\n",
       "      <td>86686.542</td>\n",
       "    </tr>\n",
       "  </tbody>\n",
       "</table>\n",
       "</div>"
      ],
      "text/plain": [
       "                       FY '10      FY '11      FY '12      FY '13      FY '14  \\\n",
       "Revenue             65225.000  108249.000  156508.000  170910.000  182795.000   \n",
       "Net Income          14013.000   25922.000   41733.000   37037.000   39510.000   \n",
       "Net Income Margins      0.215       0.239       0.267       0.217       0.216   \n",
       "Free Cash Flow      16474.000   30077.000   41454.000   44590.000   49900.000   \n",
       "\n",
       "                        FY '15      FY '16      FY '17      FY '18  \\\n",
       "Revenue             233715.000  215639.000  229234.000  265595.000   \n",
       "Net Income           53394.000   45687.000   48351.000   59531.000   \n",
       "Net Income Margins       0.228       0.212       0.211       0.224   \n",
       "Free Cash Flow       69778.000   53497.000   51774.000   64121.000   \n",
       "\n",
       "                        FY '19      FY '20      FY '21      FY '22      FY '23  \n",
       "Revenue             260174.000  274860.000  295930.000  315624.740  336630.205  \n",
       "Net Income           55256.000   61612.057   66335.066   70749.798   75458.341  \n",
       "Net Income Margins       0.212       0.224       0.224       0.224       0.224  \n",
       "Free Cash Flow       58896.000   70779.931   76205.724   81277.368   86686.542  "
      ]
     },
     "execution_count": 24,
     "metadata": {},
     "output_type": "execute_result"
    }
   ],
   "source": [
    "income_statement_df"
   ]
  },
  {
   "cell_type": "code",
   "execution_count": 41,
   "metadata": {},
   "outputs": [
    {
     "data": {
      "text/plain": [
       "-3576.0"
      ]
     },
     "execution_count": 41,
     "metadata": {},
     "output_type": "execute_result"
    }
   ],
   "source": [
    "income_statement = financials['incomeStatementHistory']['incomeStatementHistory']\n",
    "interest_expense = income_statement[0]['interestExpense']['longFmt']\n",
    "interest_expense = int(interest_expense.replace(',',''))\n",
    "adj_int_exp = interest_expense / 1000000\n",
    "adj_int_exp"
   ]
  },
  {
   "cell_type": "code",
   "execution_count": 42,
   "metadata": {},
   "outputs": [
    {
     "data": {
      "text/plain": [
       "108047.0"
      ]
     },
     "execution_count": 42,
     "metadata": {},
     "output_type": "execute_result"
    }
   ],
   "source": [
    "total_debt = (df_bs.loc['Long Term Debt'] + df_bs.loc['Short Term Debt'])[-1]\n",
    "total_debt"
   ]
  },
  {
   "cell_type": "code",
   "execution_count": 43,
   "metadata": {},
   "outputs": [
    {
     "data": {
      "text/plain": [
       "0.033096707914148475"
      ]
     },
     "execution_count": 43,
     "metadata": {},
     "output_type": "execute_result"
    }
   ],
   "source": [
    "interest_debt_rate = abs(adj_int_exp) / total_debt\n",
    "interest_debt_rate"
   ]
  },
  {
   "cell_type": "code",
   "execution_count": 47,
   "metadata": {},
   "outputs": [
    {
     "data": {
      "text/plain": [
       "dict_keys(['researchDevelopment', 'effectOfAccountingCharges', 'incomeBeforeTax', 'minorityInterest', 'netIncome', 'sellingGeneralAdministrative', 'grossProfit', 'ebit', 'endDate', 'operatingIncome', 'otherOperatingExpenses', 'interestExpense', 'extraordinaryItems', 'nonRecurring', 'otherItems', 'incomeTaxExpense', 'totalRevenue', 'totalOperatingExpenses', 'costOfRevenue', 'totalOtherIncomeExpenseNet', 'maxAge', 'discontinuedOperations', 'netIncomeFromContinuingOps', 'netIncomeApplicableToCommonShares'])"
      ]
     },
     "execution_count": 47,
     "metadata": {},
     "output_type": "execute_result"
    }
   ],
   "source": [
    "financials['incomeStatementHistory']['incomeStatementHistory'][0].keys()"
   ]
  },
  {
   "cell_type": "code",
   "execution_count": 52,
   "metadata": {},
   "outputs": [
    {
     "data": {
      "text/plain": [
       "65737.0"
      ]
     },
     "execution_count": 52,
     "metadata": {},
     "output_type": "execute_result"
    }
   ],
   "source": [
    "income_before_tax = financials['incomeStatementHistory']['incomeStatementHistory'][0]['incomeBeforeTax']['longFmt']\n",
    "income_before_tax = int(income_before_tax.replace(',',''))\n",
    "adj_inc_bef_tax = income_before_tax / 1000000\n",
    "adj_inc_bef_tax"
   ]
  },
  {
   "cell_type": "code",
   "execution_count": 55,
   "metadata": {},
   "outputs": [
    {
     "data": {
      "text/plain": [
       "10481.0"
      ]
     },
     "execution_count": 55,
     "metadata": {},
     "output_type": "execute_result"
    }
   ],
   "source": [
    "income_tax_expense = financials['incomeStatementHistory']['incomeStatementHistory'][0]['incomeTaxExpense']['longFmt']\n",
    "income_tax_expense = int(income_tax_expense.replace(',',''))\n",
    "adj_inc_tax_exp = income_tax_expense / 1000000\n",
    "adj_inc_tax_exp"
   ]
  },
  {
   "cell_type": "code",
   "execution_count": 60,
   "metadata": {},
   "outputs": [],
   "source": [
    "effective_tax_rate = adj_inc_tax_exp / adj_inc_bef_tax"
   ]
  },
  {
   "cell_type": "code",
   "execution_count": 62,
   "metadata": {},
   "outputs": [
    {
     "data": {
      "text/plain": [
       "0.027819822816742293"
      ]
     },
     "execution_count": 62,
     "metadata": {},
     "output_type": "execute_result"
    }
   ],
   "source": [
    "tax_adjusted_cost_debt = (1 - effective_tax_rate) * interest_debt_rate\n",
    "tax_adjusted_cost_debt"
   ]
  },
  {
   "cell_type": "code",
   "execution_count": 63,
   "metadata": {},
   "outputs": [],
   "source": [
    "# risk free rate\n",
    "\n",
    "url = \"https://apidojo-yahoo-finance-v1.p.rapidapi.com/market/get-summary\"\n",
    "\n",
    "querystring = {\"region\":\"US\",\"lang\":\"en\"}\n",
    "\n",
    "headers = {\n",
    "    'x-rapidapi-host': \"apidojo-yahoo-finance-v1.p.rapidapi.com\",\n",
    "    'x-rapidapi-key': \"ee394341bbmsh8c35e24e6eb2c23p1f49fcjsn8cf1179e5bce\"\n",
    "    }\n",
    "\n",
    "response = requests.request(\"GET\", url, headers=headers, params=querystring)\n",
    "\n",
    "ten_yr_bond = response.json()"
   ]
  },
  {
   "cell_type": "code",
   "execution_count": 69,
   "metadata": {},
   "outputs": [
    {
     "data": {
      "text/plain": [
       "1.781"
      ]
     },
     "execution_count": 69,
     "metadata": {},
     "output_type": "execute_result"
    }
   ],
   "source": [
    "risk_free_rate = float(ten_yr_bond['marketSummaryResponse']['result'][8]['regularMarketPrice']['fmt'])\n",
    "risk_free_rate"
   ]
  },
  {
   "cell_type": "code",
   "execution_count": 39,
   "metadata": {},
   "outputs": [],
   "source": [
    "# get beta of underlying\n",
    "\n",
    "url = 'https://api.tdameritrade.com/v1/instruments'\n",
    "params = {\n",
    "    'apikey': 'KZECOOGWTHECBHB4PNZZM3S1GHKLNQS1',\n",
    "    'symbol': 'AAPL',\n",
    "    'projection': 'fundamental'\n",
    "}\n",
    "\n",
    "content = requests.get(url=url, params=params)\n",
    "fundamentals = content.json()"
   ]
  },
  {
   "cell_type": "code",
   "execution_count": 76,
   "metadata": {},
   "outputs": [],
   "source": [
    "beta = fundamentals['AAPL']['fundamental']['beta']"
   ]
  },
  {
   "cell_type": "code",
   "execution_count": 82,
   "metadata": {},
   "outputs": [
    {
     "data": {
      "text/plain": [
       "0.11691253731580913"
      ]
     },
     "execution_count": 82,
     "metadata": {},
     "output_type": "execute_result"
    }
   ],
   "source": [
    "cap_asset_pm = tax_adjusted_cost_debt + beta*(0.10 - tax_adjusted_cost_debt)\n",
    "cap_asset_pm"
   ]
  },
  {
   "cell_type": "code",
   "execution_count": 85,
   "metadata": {},
   "outputs": [],
   "source": [
    "# market & debt cap\n",
    "market_cap = fundamentals['AAPL']['fundamental']['marketCap']\n",
    "total = market_cap + total_debt"
   ]
  },
  {
   "cell_type": "code",
   "execution_count": 86,
   "metadata": {},
   "outputs": [
    {
     "data": {
      "text/plain": [
       "(0.0856936420769448, 0.9143063579230553)"
      ]
     },
     "execution_count": 86,
     "metadata": {},
     "output_type": "execute_result"
    }
   ],
   "source": [
    "# weight of debt & equity\n",
    "wd = total_debt / total\n",
    "we = market_cap / total\n",
    "wd, we"
   ]
  },
  {
   "cell_type": "code",
   "execution_count": 87,
   "metadata": {},
   "outputs": [
    {
     "data": {
      "text/plain": [
       "0.10927785812786267"
      ]
     },
     "execution_count": 87,
     "metadata": {},
     "output_type": "execute_result"
    }
   ],
   "source": [
    "wacc = (wd * tax_adjusted_cost_debt) + (we * cap_asset_pm)\n",
    "wacc"
   ]
  },
  {
   "cell_type": "code",
   "execution_count": 40,
   "metadata": {},
   "outputs": [
    {
     "data": {
      "text/plain": [
       "4443.265"
      ]
     },
     "execution_count": 40,
     "metadata": {},
     "output_type": "execute_result"
    }
   ],
   "source": [
    "# shares outstanding\n",
    "shares_out = fundamentals['AAPL']['fundamental']['sharesOutstanding']\n",
    "shares_out"
   ]
  },
  {
   "cell_type": "code",
   "execution_count": 96,
   "metadata": {},
   "outputs": [],
   "source": [
    "dcf_val = income_statement_df.loc[['Free Cash Flow']]"
   ]
  },
  {
   "cell_type": "code",
   "execution_count": 110,
   "metadata": {},
   "outputs": [],
   "source": [
    "term_val = (dcf_val.loc['Free Cash Flow', \"FY '23\"] * (1 + .025)) / (wacc - .025)\n",
    "dcf_val['Terminal Value'] = term_val"
   ]
  },
  {
   "cell_type": "code",
   "execution_count": 120,
   "metadata": {},
   "outputs": [],
   "source": [
    "discount_factor = (1+wacc)\n",
    "dis_fac = [0,0,0,0,0,0,0,0,0,0,discount_factor**1,discount_factor**2,discount_factor**3,discount_factor**4,discount_factor**4]\n",
    "dcf_val.loc['Discount Factor'] = dis_fac"
   ]
  },
  {
   "cell_type": "code",
   "execution_count": 121,
   "metadata": {},
   "outputs": [],
   "source": [
    "dcf_val.loc['PV of Future Cash Flow'] = dcf_val.loc['Free Cash Flow'] / dcf_val.loc['Discount Factor']"
   ]
  },
  {
   "cell_type": "code",
   "execution_count": 128,
   "metadata": {},
   "outputs": [],
   "source": [
    "dcf_val.replace([np.inf], 0, inplace=True)"
   ]
  },
  {
   "cell_type": "code",
   "execution_count": 131,
   "metadata": {},
   "outputs": [
    {
     "data": {
      "text/html": [
       "<div>\n",
       "<style scoped>\n",
       "    .dataframe tbody tr th:only-of-type {\n",
       "        vertical-align: middle;\n",
       "    }\n",
       "\n",
       "    .dataframe tbody tr th {\n",
       "        vertical-align: top;\n",
       "    }\n",
       "\n",
       "    .dataframe thead th {\n",
       "        text-align: right;\n",
       "    }\n",
       "</style>\n",
       "<table border=\"1\" class=\"dataframe\">\n",
       "  <thead>\n",
       "    <tr style=\"text-align: right;\">\n",
       "      <th></th>\n",
       "      <th>FY '10</th>\n",
       "      <th>FY '11</th>\n",
       "      <th>FY '12</th>\n",
       "      <th>FY '13</th>\n",
       "      <th>FY '14</th>\n",
       "      <th>FY '15</th>\n",
       "      <th>FY '16</th>\n",
       "      <th>FY '17</th>\n",
       "      <th>FY '18</th>\n",
       "      <th>FY '19</th>\n",
       "      <th>FY '20</th>\n",
       "      <th>FY '21</th>\n",
       "      <th>FY '22</th>\n",
       "      <th>FY '23</th>\n",
       "      <th>Terminal Value</th>\n",
       "    </tr>\n",
       "  </thead>\n",
       "  <tbody>\n",
       "    <tr>\n",
       "      <th>Free Cash Flow</th>\n",
       "      <td>16474.0</td>\n",
       "      <td>30077.0</td>\n",
       "      <td>41454.0</td>\n",
       "      <td>44590.0</td>\n",
       "      <td>49900.0</td>\n",
       "      <td>69778.0</td>\n",
       "      <td>53497.0</td>\n",
       "      <td>51774.0</td>\n",
       "      <td>64121.0</td>\n",
       "      <td>58896.0</td>\n",
       "      <td>70779.931000</td>\n",
       "      <td>76205.724000</td>\n",
       "      <td>81277.368000</td>\n",
       "      <td>86686.542000</td>\n",
       "      <td>1.054295e+06</td>\n",
       "    </tr>\n",
       "    <tr>\n",
       "      <th>Discount Factor</th>\n",
       "      <td>0.0</td>\n",
       "      <td>0.0</td>\n",
       "      <td>0.0</td>\n",
       "      <td>0.0</td>\n",
       "      <td>0.0</td>\n",
       "      <td>0.0</td>\n",
       "      <td>0.0</td>\n",
       "      <td>0.0</td>\n",
       "      <td>0.0</td>\n",
       "      <td>0.0</td>\n",
       "      <td>1.109278</td>\n",
       "      <td>1.230497</td>\n",
       "      <td>1.364963</td>\n",
       "      <td>1.514124</td>\n",
       "      <td>1.514124e+00</td>\n",
       "    </tr>\n",
       "    <tr>\n",
       "      <th>PV of Future Cash Flow</th>\n",
       "      <td>NaN</td>\n",
       "      <td>NaN</td>\n",
       "      <td>NaN</td>\n",
       "      <td>NaN</td>\n",
       "      <td>NaN</td>\n",
       "      <td>NaN</td>\n",
       "      <td>NaN</td>\n",
       "      <td>NaN</td>\n",
       "      <td>NaN</td>\n",
       "      <td>NaN</td>\n",
       "      <td>63807.215191</td>\n",
       "      <td>61930.830632</td>\n",
       "      <td>59545.452315</td>\n",
       "      <td>57251.952431</td>\n",
       "      <td>6.963069e+05</td>\n",
       "    </tr>\n",
       "  </tbody>\n",
       "</table>\n",
       "</div>"
      ],
      "text/plain": [
       "                         FY '10   FY '11   FY '12   FY '13   FY '14   FY '15  \\\n",
       "Free Cash Flow          16474.0  30077.0  41454.0  44590.0  49900.0  69778.0   \n",
       "Discount Factor             0.0      0.0      0.0      0.0      0.0      0.0   \n",
       "PV of Future Cash Flow      NaN      NaN      NaN      NaN      NaN      NaN   \n",
       "\n",
       "                         FY '16   FY '17   FY '18   FY '19        FY '20  \\\n",
       "Free Cash Flow          53497.0  51774.0  64121.0  58896.0  70779.931000   \n",
       "Discount Factor             0.0      0.0      0.0      0.0      1.109278   \n",
       "PV of Future Cash Flow      NaN      NaN      NaN      NaN  63807.215191   \n",
       "\n",
       "                              FY '21        FY '22        FY '23  \\\n",
       "Free Cash Flow          76205.724000  81277.368000  86686.542000   \n",
       "Discount Factor             1.230497      1.364963      1.514124   \n",
       "PV of Future Cash Flow  61930.830632  59545.452315  57251.952431   \n",
       "\n",
       "                        Terminal Value  \n",
       "Free Cash Flow            1.054295e+06  \n",
       "Discount Factor           1.514124e+00  \n",
       "PV of Future Cash Flow    6.963069e+05  "
      ]
     },
     "execution_count": 131,
     "metadata": {},
     "output_type": "execute_result"
    }
   ],
   "source": [
    "dcf_val"
   ]
  },
  {
   "cell_type": "code",
   "execution_count": 132,
   "metadata": {},
   "outputs": [
    {
     "data": {
      "text/plain": [
       "938842.3162799424"
      ]
     },
     "execution_count": 132,
     "metadata": {},
     "output_type": "execute_result"
    }
   ],
   "source": [
    "todays_val = dcf_val.loc['PV of Future Cash Flow'].sum()\n",
    "todays_val"
   ]
  },
  {
   "cell_type": "code",
   "execution_count": 133,
   "metadata": {},
   "outputs": [
    {
     "data": {
      "text/plain": [
       "211.29559373117343"
      ]
     },
     "execution_count": 133,
     "metadata": {},
     "output_type": "execute_result"
    }
   ],
   "source": [
    "fair_value = todays_val / shares_out\n",
    "fair_value"
   ]
  },
  {
   "cell_type": "code",
   "execution_count": null,
   "metadata": {},
   "outputs": [],
   "source": []
  }
 ],
 "metadata": {
  "kernelspec": {
   "display_name": "Python 3",
   "language": "python",
   "name": "python3"
  },
  "language_info": {
   "codemirror_mode": {
    "name": "ipython",
    "version": 3
   },
   "file_extension": ".py",
   "mimetype": "text/x-python",
   "name": "python",
   "nbconvert_exporter": "python",
   "pygments_lexer": "ipython3",
   "version": "3.6.8"
  }
 },
 "nbformat": 4,
 "nbformat_minor": 2
}
