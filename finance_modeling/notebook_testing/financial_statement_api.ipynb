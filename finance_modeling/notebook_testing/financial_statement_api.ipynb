{
 "cells": [
  {
   "cell_type": "code",
   "execution_count": 1,
   "metadata": {},
   "outputs": [],
   "source": [
    "import numpy as np\n",
    "import pandas as pd\n",
    "import requests\n",
    "import json"
   ]
  },
  {
   "cell_type": "code",
   "execution_count": 1,
   "metadata": {},
   "outputs": [],
   "source": [
    "# API urls for profit/loss, balance sheet, and cash flow statements\n",
    "pl_url = 'https://financialmodelingprep.com/api/v3/financials/income-statement/AAPL'\n",
    "bs_url = 'https://financialmodelingprep.com/api/v3/financials/balance-sheet-statement/AAPL'\n",
    "cf_url = 'https://financialmodelingprep.com/api/v3/financials/cash-flow-statement/AAPL'"
   ]
  },
  {
   "cell_type": "code",
   "execution_count": 28,
   "metadata": {},
   "outputs": [],
   "source": [
    "# fetching API data using urls\n",
    "pl = requests.get(pl_url).json()\n",
    "bs = requests.get(bs_url).json()\n",
    "cf = requests.get(cf_url).json()"
   ]
  },
  {
   "cell_type": "code",
   "execution_count": 29,
   "metadata": {},
   "outputs": [],
   "source": [
    "# converting json to dataframe and transposing \n",
    "\n",
    "# profit/loss\n",
    "pl_df = pd.DataFrame.from_dict(pl['financials'])\n",
    "pl_df = pl_df.T\n",
    "\n",
    "# balance sheet\n",
    "bs_df = pd.DataFrame.from_dict(bs['financials'])\n",
    "bs_df = bs_df.T\n",
    "\n",
    "# cash flow\n",
    "cf_df = pd.DataFrame.from_dict(cf['financials'])\n",
    "cf_df = cf_df.T"
   ]
  },
  {
   "cell_type": "code",
   "execution_count": 30,
   "metadata": {},
   "outputs": [],
   "source": [
    "# setting date as column header and dropping column\n",
    "dt = pl_df.loc['date']\n",
    "dt_str = dt.str.slice(stop=4)\n",
    "# profit/loss\n",
    "pl_df.columns = dt_str\n",
    "pl_df = pl_df[pl_df.columns[::-1]]\n",
    "pl_df.drop('date', axis=0, inplace=True)\n",
    "\n",
    "# balance sheet\n",
    "bs_df.columns = dt_str\n",
    "bs_df = bs_df[bs_df.columns[::-1]]\n",
    "bs_df.drop('date', axis=0, inplace=True)\n",
    "\n",
    "# cash flow\n",
    "cf_df.columns = dt_str\n",
    "cf_df = cf_df[cf_df.columns[::-1]]\n",
    "cf_df.drop('date', axis=0, inplace=True)"
   ]
  },
  {
   "cell_type": "code",
   "execution_count": 31,
   "metadata": {},
   "outputs": [],
   "source": [
    "# convert data type from string to float\n",
    "\n",
    "# profit/loss\n",
    "pl_df = pl_df.astype('float64')\n",
    "\n",
    "# balance sheet\n",
    "bs_df = bs_df.astype('float64')\n",
    "\n",
    "# cash flow\n",
    "cf_df = cf_df.astype('float64')"
   ]
  },
  {
   "cell_type": "code",
   "execution_count": 32,
   "metadata": {},
   "outputs": [],
   "source": [
    "# change value from real to value to number in millions\n",
    "\n",
    "# profit/loss\n",
    "pl_df = pl_df / 1000000\n",
    "\n",
    "# balance sheet\n",
    "bs_df = bs_df / 1000000\n",
    "\n",
    "# cash flow\n",
    "cf_df = cf_df / 1000000"
   ]
  },
  {
   "cell_type": "code",
   "execution_count": 33,
   "metadata": {},
   "outputs": [],
   "source": [
    "# round numbers to have no value after decimal\n",
    "\n",
    "# profit/loss\n",
    "pl_df = pl_df.round(1)\n",
    "\n",
    "# balance sheet\n",
    "bs_df = bs_df.round(1)\n",
    "\n",
    "# cash flow\n",
    "cf_df =cf_df.round(1)"
   ]
  },
  {
   "cell_type": "code",
   "execution_count": 34,
   "metadata": {},
   "outputs": [],
   "source": [
    "# save to pickle\n",
    "\n",
    "# profit/loss\n",
    "pl_df.to_pickle('aapl_pl.pickle')\n",
    "\n",
    "# balance sheet\n",
    "bs_df.to_pickle('aapl_bs.pickle')\n",
    "\n",
    "# cash flow\n",
    "cf_df.to_pickle('aapl_cf.pickle')"
   ]
  }
 ],
 "metadata": {
  "kernelspec": {
   "display_name": "Python 3",
   "language": "python",
   "name": "python3"
  },
  "language_info": {
   "codemirror_mode": {
    "name": "ipython",
    "version": 3
   },
   "file_extension": ".py",
   "mimetype": "text/x-python",
   "name": "python",
   "nbconvert_exporter": "python",
   "pygments_lexer": "ipython3",
   "version": "3.6.8"
  }
 },
 "nbformat": 4,
 "nbformat_minor": 2
}
